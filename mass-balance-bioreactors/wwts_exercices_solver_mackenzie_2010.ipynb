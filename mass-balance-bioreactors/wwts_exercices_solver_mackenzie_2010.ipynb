{
 "cells": [
  {
   "cell_type": "markdown",
   "metadata": {},
   "source": [
    "<br /> \n",
    "## WATER AND WASTEWATER ENGINEERING: Design Principles and Practice\n",
    "\n",
    "<br /> \n",
    "<font size=\"3\"> This notebook aims to show the solution of exercices available on *Chapter 23 - SECONDARY TREATMENT BY SUSPENDED GROWTH BIOLOGICAL PROCESSES* of the Book  **'WATER AND WASTEWATER ENGINEERING: Design Principles and Practice'** from the author Mackenzie L. Davis (2010).</font>"
   ]
  },
  {
   "cell_type": "code",
   "execution_count": 46,
   "metadata": {},
   "outputs": [],
   "source": [
    "import numpy as np\n",
    "import matplotlib.pyplot as plt\n",
    "import numpy as np\n",
    "from scipy.integrate import odeint\n",
    "%matplotlib inline"
   ]
  },
  {
   "cell_type": "markdown",
   "metadata": {},
   "source": [
    "## SECONDARY TREATMENT BY SUSPENDED GROWTH BIOLOGICAL PROCESSES\n",
    "\n",
    "### Activated Sludge: The Lawrence WWTS case\n",
    "\n",
    "####  Estimating aeration tank volume\n",
    "\n",
    "1 - The town of Lawrence has been directed to upgrade its primary WWTP to a secondary plant that can meet an effluent standard of 30.0 mg/L BOD 5 and 30.0 mg/L total suspended solids (TSS). They have selected a completely mixed activated sludge system.\n",
    "Assuming that the BOD5 of the TSS may be estimated as equal to 63% of the TSS concentration, estimate the required volume of the aeration tank. The following data are available from the\n",
    "existing primary plant.\n",
    "Existing primary plant effluent characteristics:\n",
    "Flow = 12,960 m3 /d\n",
    "BOD 5 = 84.0 mg/L\n",
    "Assume the following values for the growth constants: Ks=100 mg/L BOD 5; mu_max 2.5 d-1 ;\n",
    "kd=0.050 d-1; Y=0.50 mg VSS/mg BOD5 removed. Also assume that the secondary clarifier\n",
    "can produce an effluent with 30.0 mg/L TSS, and that MLVSS=2,000 mg/L."
   ]
  },
  {
   "cell_type": "code",
   "execution_count": 293,
   "metadata": {},
   "outputs": [],
   "source": [
    "# Input Parameters\n",
    "Q = 12960.0 #m3/d\n",
    "BOD_5 = 84.0 #So mg/L\n",
    "Ks = 100.0 #mg/L BOD_5\n",
    "mu_max= 2.5 #d-1\n",
    "kd = 0.05 #d-1\n",
    "Y = 0.50 #mg VSS/mg BOD_5\n",
    "MLVSS = 2000.0 #mg/L\n",
    "TSS_eff_sec_clarifier = 30.0 #mg/L TSS\n",
    "BOD_5_allowed = 30.0 #mg/L BOD_5\n",
    "BOD_5_TSS = 0.63 * TSS_eff_sec_clarifier"
   ]
  },
  {
   "cell_type": "code",
   "execution_count": 350,
   "metadata": {},
   "outputs": [
    {
     "name": "stdout",
     "output_type": "stream",
     "text": [
      "\n",
      " The soluble BOD_5 allowable in the effluent is 11.100 mg/L\n"
     ]
    }
   ],
   "source": [
    "# a) Estimate the allowable soluble BOD 5 in the effluent using the 63% assumption\n",
    "# S = Total BOD allowed - BOD in suspended solids\n",
    "S = BOD_5_allowed - BOD_5_TSS\n",
    "print('\\n The soluble BOD_5 allowable in the effluent is', '%.3f' % S,'mg/L')"
   ]
  },
  {
   "cell_type": "code",
   "execution_count": 351,
   "metadata": {},
   "outputs": [
    {
     "name": "stdout",
     "output_type": "stream",
     "text": [
      "\n",
      " The estimated mean cell-residence time is (SRT) 5.006 days\n"
     ]
    }
   ],
   "source": [
    "# b) The mean cell-residence time\n",
    "# By isolating teta_c in the equation S = (Ks*(1 + (kd*teta_c)))/(teta_c*(mu_max-kd)-1), we have:\n",
    "teta_c = (S/((mu_max*S)-(kd*S)-(Ks*kd)))*(1 +(Ks/S))\n",
    "print('\\n The estimated mean cell-residence time is (SRT)', '%.3f' % teta_c,'days')"
   ]
  },
  {
   "cell_type": "code",
   "execution_count": 352,
   "metadata": {},
   "outputs": [
    {
     "name": "stdout",
     "output_type": "stream",
     "text": [
      "\n",
      " The estimated hydraulic detention time is 0.073 days\n"
     ]
    }
   ],
   "source": [
    "# c) Using the assumed value of 2,000 mg/L for the MLVSS, we can estimate the hydraulic detention time (teta):\n",
    "# X = teta_c * Y * (S-So)/(teta*(1+(kd*teta_c)))\n",
    "teta = ((teta_c * Y * (BOD_5-S))/MLVSS)* (1/(1+(kd*teta_c)))\n",
    "print('\\n The estimated hydraulic detention time is', '%.3f' % teta,'days')"
   ]
  },
  {
   "cell_type": "code",
   "execution_count": 353,
   "metadata": {},
   "outputs": [
    {
     "name": "stdout",
     "output_type": "stream",
     "text": [
      "\n",
      " The estimated volume is 945.635 m3. \n",
      " Thus, two tanks of this size are required to meet redundancy requirements.\n"
     ]
    }
   ],
   "source": [
    "# d) The volume of the aeration tank is then estimated as:\n",
    "# V/Q = teta\n",
    "V = teta * Q\n",
    "print('\\n The estimated volume is', '%.3f' % V, \n",
    "      'm3. \\n Thus, two tanks of this size are required to meet redundancy requirements.')"
   ]
  },
  {
   "cell_type": "markdown",
   "metadata": {},
   "source": [
    "#### Sludge Return\n",
    "\n",
    "2 - Determine the return sludge concentration ( X_r) that results in the maximum return sludge flow rate for the proposed activated sludge upgrade at Lawrence (above). Also estimate the mass flow rate of sludge wasting. Use the following assumptions: MLVSS fraction of MLSS= 0.70 and volume of aeration tank =950 m3 ."
   ]
  },
  {
   "cell_type": "code",
   "execution_count": 443,
   "metadata": {},
   "outputs": [],
   "source": [
    "MLVSS_to_MLSS = 0.70 #ratio\n",
    "V_aeration_tank = 950 #m3\n",
    "X_ = 2.86 #gMLSS /L\n",
    "Xe = 0.03 #g/L"
   ]
  },
  {
   "cell_type": "code",
   "execution_count": 444,
   "metadata": {},
   "outputs": [
    {
     "name": "stdout",
     "output_type": "stream",
     "text": [
      "2.857\n"
     ]
    }
   ],
   "source": [
    "# a) convert MLVSS to MLSS\n",
    "MLSS = (MLVSS/1000)/MLVSS_to_MLSS\n",
    "print ('%.3f' % MLSS)"
   ]
  },
  {
   "cell_type": "code",
   "execution_count": 445,
   "metadata": {},
   "outputs": [
    {
     "data": {
      "text/plain": [
       "array([ 3.0107    ,  3.90487368,  4.79904737,  5.69322105,  6.58739474,\n",
       "        7.48156842,  8.37574211,  9.26991579, 10.16408947, 11.05826316,\n",
       "       11.95243684, 12.84661053, 13.74078421, 14.63495789, 15.52913158,\n",
       "       16.42330526, 17.31747895, 18.21165263, 19.10582632, 20.        ])"
      ]
     },
     "execution_count": 445,
     "metadata": {},
     "output_type": "execute_result"
    }
   ],
   "source": [
    "# b) Estimating Xr, maximum return sludge concentration (g/m³)\n",
    "# We kow that Xr is a range between 3 to 20 mg/L\n",
    "Xr = np.linspace(3.0107, 20, 20) #return sludge\n",
    "Xr"
   ]
  },
  {
   "cell_type": "code",
   "execution_count": 379,
   "metadata": {},
   "outputs": [
    {
     "data": {
      "text/plain": [
       "array([180.10640964, 138.86399698, 112.99041786,  95.24421456,\n",
       "        82.31575443,  72.47763263,  64.74009833,  58.49528516,\n",
       "        53.34923201,  49.03540093,  45.36701383,  42.20929454,\n",
       "        39.4625488 ,  37.05144705,  34.91800972,  33.01688417,\n",
       "        31.31208469,  29.77469308,  28.38120469,  27.11231837])"
      ]
     },
     "execution_count": 379,
     "metadata": {},
     "output_type": "execute_result"
    }
   ],
   "source": [
    "# c) Qw, sludge wasting flow rate (m³/d)\n",
    "Qw = (V_aeration_tank*MLSS)/(teta_c*Xr)\n",
    "Qw"
   ]
  },
  {
   "cell_type": "code",
   "execution_count": 380,
   "metadata": {},
   "outputs": [
    {
     "data": {
      "text/plain": [
       "array([47951.94310893, 36886.13647842, 29969.9986818 , 25237.90076895,\n",
       "       21796.37323068, 19180.81132526, 17125.7263923 , 15468.39946895,\n",
       "       14103.54176175, 12960.01216585, 11988.01189184, 11151.63947737,\n",
       "       10424.35905302,  9786.13332582,  9221.54899097,  8718.5556448 ,\n",
       "        8267.5960694 ,  7860.99315444,  7492.50924718,  7157.02388593])"
      ]
     },
     "execution_count": 380,
     "metadata": {},
     "output_type": "execute_result"
    }
   ],
   "source": [
    "# d) Qr, return sludge flow rate (m³/d)\n",
    "Qr = ((Q*S) - (Qw*Xr) - (Xe*(Q-Qw)))/(Xr -Xe)\n",
    "Qr"
   ]
  },
  {
   "cell_type": "code",
   "execution_count": 381,
   "metadata": {},
   "outputs": [
    {
     "name": "stdout",
     "output_type": "stream",
     "text": [
      "The return sludge flow rate is 12960.012 m³/d\n",
      "The system flow rate is 12960.000 m³/d\n",
      "The sludge wasting flow rate is 49.035 m³/d\n"
     ]
    }
   ],
   "source": [
    "# Here we can compare Qw, Q and Qr, once we know that Q = Qr\n",
    "print ('The return sludge flow rate is', '%.3f' % Qr[9:10], 'm³/d')\n",
    "print ('The system flow rate is','%.3f' % Q, 'm³/d')\n",
    "print ('The sludge wasting flow rate is', '%.3f' % Qw[9:10], 'm³/d')"
   ]
  },
  {
   "cell_type": "code",
   "execution_count": 359,
   "metadata": {},
   "outputs": [
    {
     "name": "stdout",
     "output_type": "stream",
     "text": [
      "\n",
      " The mass flow rate for sludge wasting is 542.246 kg/d\n"
     ]
    }
   ],
   "source": [
    "# e) Estimating mass flow rate for sludge wasting\n",
    "mass_flow_rate_sludge_wasting = Qw[9:10]*Xr[9:10]\n",
    "mass_flow_rate_sludge_wasting\n",
    "print('\\n The mass flow rate for sludge wasting is','%.3f' % mass_flow_rate_sludge_wasting,'kg/d')"
   ]
  },
  {
   "cell_type": "markdown",
   "metadata": {},
   "source": [
    "#### Sludge Production\n",
    "\n",
    "3 - Estimate the mass of sludge to be wasted each day from the new activated sludge plant at Lawrence"
   ]
  },
  {
   "cell_type": "code",
   "execution_count": 382,
   "metadata": {},
   "outputs": [
    {
     "name": "stdout",
     "output_type": "stream",
     "text": [
      "The bserved yield is 0.400 kg MLVSS/kg BOD_5 removed\n"
     ]
    }
   ],
   "source": [
    "# a) Computing Y_obs, observed yield (kg MLVSS/kg BOD_5 removed)\n",
    "Y_obs = Y/(1 + (kd*teta_c))\n",
    "print ('The bserved yield is', '%.3f' % Y_obs, 'kg MLVSS/kg BOD_5 removed')"
   ]
  },
  {
   "cell_type": "code",
   "execution_count": 383,
   "metadata": {},
   "outputs": [
    {
     "name": "stdout",
     "output_type": "stream",
     "text": [
      "The net waste activated sludge produced each day is 377.828 kg VSS/d\n"
     ]
    }
   ],
   "source": [
    "# b) Computing the net waste activated sludge produced each day (Px)\n",
    "Px = (Y_obs * Q * (BOD_5 - S))/1000\n",
    "print ('The net waste activated sludge produced each day is', '%.3f' % Px, 'kg VSS/d')"
   ]
  },
  {
   "cell_type": "code",
   "execution_count": 384,
   "metadata": {},
   "outputs": [
    {
     "name": "stdout",
     "output_type": "stream",
     "text": [
      "The MLSS value is 539.755 kg/d\n"
     ]
    }
   ],
   "source": [
    "# c) The total mass produced includes inert materials. Thus, using the relationship between MLSS and MLVSS, we have:\n",
    "Increase_MLSS = (1/MLVSS_to_MLSS)*Px\n",
    "print ('The MLSS value is','%.3f' % Increase_MLSS , 'kg/d')"
   ]
  },
  {
   "cell_type": "code",
   "execution_count": 385,
   "metadata": {},
   "outputs": [
    {
     "name": "stdout",
     "output_type": "stream",
     "text": [
      "The mass of solids lost in the effluent is 387.329 kg/d\n"
     ]
    }
   ],
   "source": [
    "# d) The mass of solids (both volatile and inert) lost in the effluent is\n",
    "Mass_lost = Xe*(Q-Qw[9:10])\n",
    "print ('The mass of solids lost in the effluent is', '%.3f' % Mass_lost, 'kg/d')"
   ]
  },
  {
   "cell_type": "code",
   "execution_count": 386,
   "metadata": {},
   "outputs": [
    {
     "name": "stdout",
     "output_type": "stream",
     "text": [
      "The mass to be wasted is 152.426 kg/d.\n",
      "This mass is calculated as dry solids. \n",
      "Because the sludge is mostly water, the actual mass will be considerably larger.\n"
     ]
    }
   ],
   "source": [
    "# e) The mass to be wasted is\n",
    "Mass_wasted = Increase_MLSS  - Mass_lost\n",
    "print ('The mass to be wasted is', '%.3f' % Mass_wasted, 'kg/d.')\n",
    "print('This mass is calculated as dry solids.','\\nBecause the sludge is mostly water, the actual mass will be considerably larger.')"
   ]
  },
  {
   "cell_type": "markdown",
   "metadata": {},
   "source": [
    "#### Oxygen Demand\n",
    "\n",
    "Estimating the mass of oxygen to be supplied (kg/d) for the new activated sludge plant at Lawrence. Assume that BOD 5 = rbsCOD and that it is 68% of the bCOD."
   ]
  },
  {
   "cell_type": "code",
   "execution_count": 387,
   "metadata": {},
   "outputs": [
    {
     "name": "stdout",
     "output_type": "stream",
     "text": [
      "123.529\n",
      "123.529\n",
      "16.324\n"
     ]
    }
   ],
   "source": [
    "# a) Converting factors rbsCOD(readily biodegradable soluble COD) to bCOD(biodegradable COD)\n",
    "rbs_COD = BOD_5\n",
    "conversion_factor = 0.68\n",
    "b_COD = rbs_COD/conversion_factor\n",
    "So_conv = BOD_5/conversion_factor\n",
    "S_conv = S/conversion_factor\n",
    "print ('%.3f' % b_COD)\n",
    "print('%.3f' % So_conv)\n",
    "print('%.3f' % S_conv)"
   ]
  },
  {
   "cell_type": "code",
   "execution_count": 388,
   "metadata": {},
   "outputs": [
    {
     "name": "stdout",
     "output_type": "stream",
     "text": [
      "The amount of oxygen required is 852.872 kg/d of oxygen.\n",
      "This is the theoretical amount of oxygen required. \n",
      "For aeration design, the fraction of air that is oxygen and the oxygen transfer efficiency must \n",
      "be taken into account.\n"
     ]
    }
   ],
   "source": [
    "# b) Estimating the mass of O2\n",
    "M_o2 = (Q*(So_conv-S_conv)/1000) - 1.42 *Px\n",
    "M_o2\n",
    "print ('The amount of oxygen required is','%.3f' % M_o2, 'kg/d of oxygen.' )\n",
    "print('This is the theoretical amount of oxygen required. \\nFor aeration design, the fraction of air that is oxygen and the oxygen transfer efficiency must \\nbe taken into account.')"
   ]
  },
  {
   "cell_type": "markdown",
   "metadata": {},
   "source": [
    "#### Oxygen Transfer\n",
    "\n",
    "Estimate the required air flow rate for the new activated sludge plant at Lawrence\n",
    "Use the following assumptions in preparing the estimate:\n",
    "Clean water correction, alpha = 0.50\n",
    "Salinity correction, beta = 0.95\n",
    "Fouling_factor = 0.9\n",
    "Summer wastewater temperature, T_summer = 22.0 C\n",
    "Atmospheric pressure, P_atm = 101.325 kPa\n",
    "Elevation = 100 m\n",
    "Depth_of_aerator = 5.6 m\n",
    "Operating_DO = 2.0 mg/L\n",
    "oxygen leaving aeration tank, o2_loss = 19.0 %\n",
    "SOTR = 650.0 kg/d\n",
    "air flow rate at standard conditions, o2_flow_rate = 50 m3/d · aerator\n"
   ]
  },
  {
   "cell_type": "code",
   "execution_count": 390,
   "metadata": {},
   "outputs": [],
   "source": [
    "#Input Parameters\n",
    "alpha = 0.50\n",
    "beta = 0.95\n",
    "fouling_factor = 0.9\n",
    "T_summer = 22.0 \n",
    "P_atm = 101.325 \n",
    "Elevation = 100 \n",
    "Depth_of_aerator = 5.6 \n",
    "Operating_DO = 2.0 \n",
    "o2_loss = 19.0\n",
    "SOTR_manufac = 650.0 \n",
    "o2_flow_rate = 50.0\n",
    "specific_weight_air = 9.8 #kN/m 3\n",
    "AOTR_req = 850.0\n",
    "C_sTH_20 = 9.17 #mg/L or 9.17 g/m3 at 20C."
   ]
  },
  {
   "cell_type": "code",
   "execution_count": 391,
   "metadata": {},
   "outputs": [],
   "source": [
    "# a) Assuming he required AOTR of 850 kg/d and C_sTH from Appendix A\n",
    "AOTR_req = AOTR_req\n",
    "C_sTH_20 = C_sTH_20"
   ]
  },
  {
   "cell_type": "code",
   "execution_count": 392,
   "metadata": {},
   "outputs": [
    {
     "name": "stdout",
     "output_type": "stream",
     "text": [
      "The pressure at the depth of air release is 15.939 meters.\n"
     ]
    }
   ],
   "source": [
    "# b) Estimating the pressure at the depth of air release, Pd:\n",
    "Pd = (P_atm/specific_weight_air)+Depth_of_aerator\n",
    "print('The pressure at the depth of air release is', '%.3f' % Pd, 'meters.')"
   ]
  },
  {
   "cell_type": "code",
   "execution_count": 393,
   "metadata": {},
   "outputs": [
    {
     "name": "stdout",
     "output_type": "stream",
     "text": [
      "The average dissolved oxygen saturation concentration is 10.801 mg/L\n"
     ]
    }
   ],
   "source": [
    "# c) Finding  C_sTH from Appendix A at 22 C (8.83 mg/L), \n",
    "#   we calculate C_avg (The average dissolved oxygen saturation concentration in clean water) .\n",
    "C_sTH_22 = 8.83\n",
    "ot = 21.0 #percent oxygen concentration leaving tank\n",
    "C_avg = C_sTH_22 * alpha * ((Pd/(P_atm/specific_weight_air))+(o2_loss/ot))\n",
    "print ('The average dissolved oxygen saturation concentration is', '%.3f' % C_avg, 'mg/L')"
   ]
  },
  {
   "cell_type": "code",
   "execution_count": 394,
   "metadata": {},
   "outputs": [
    {
     "name": "stdout",
     "output_type": "stream",
     "text": [
      "The SORT required value is 1975.743 kg/d.\n"
     ]
    }
   ],
   "source": [
    "# d) SORT_req\n",
    "SORT_req = ((AOTR_req/((1.024**(T_summer-20))*(alpha)*(fouling_factor)))* \n",
    "            (C_sTH_20/(beta*(C_avg-Operating_DO))))\n",
    "print ('The SORT required value is','%.3f' % SORT_req, 'kg/d.')"
   ]
  },
  {
   "cell_type": "code",
   "execution_count": 395,
   "metadata": {},
   "outputs": [
    {
     "name": "stdout",
     "output_type": "stream",
     "text": [
      "The SORT ratio is 0.329\n"
     ]
    }
   ],
   "source": [
    "# e) Estimating the ratio of SOTR manuf /SOTR req\n",
    "SORT_ratio = SOTR_manufac/SORT_req\n",
    "print ('The SORT ratio is','%.3f' % SORT_ratio)"
   ]
  },
  {
   "cell_type": "code",
   "execution_count": 396,
   "metadata": {},
   "outputs": [
    {
     "name": "stdout",
     "output_type": "stream",
     "text": [
      "The required air flow rate is 9397.876 m3/d.\n"
     ]
    }
   ],
   "source": [
    "# f) The required air flow rate is found from the following relationship:\n",
    "air_density = 1.185 #kg/m3\n",
    "o2_fraction_air = 0.232 #23.2%\n",
    "required_air_flow_rate = (AOTR_req/(air_density*o2_fraction_air))*(1/SORT_ratio)\n",
    "required_air_flow_rate\n",
    "print ('The required air flow rate is','%.3f' % required_air_flow_rate, 'm3/d.')"
   ]
  },
  {
   "cell_type": "code",
   "execution_count": 397,
   "metadata": {},
   "outputs": [
    {
     "name": "stdout",
     "output_type": "stream",
     "text": [
      "There are needed 188 aerators.\n"
     ]
    }
   ],
   "source": [
    "# g) The number of aerators required is\n",
    "aerators = required_air_flow_rate/o2_flow_rate\n",
    "aerators\n",
    "print('There are needed','%.f' % aerators , 'aerators.')"
   ]
  },
  {
   "cell_type": "markdown",
   "metadata": {},
   "source": [
    "### Oxidation ponds: The Waterloo WWTS case\n",
    "\n",
    "####  Design of a controlled discharge oxidation pond\n",
    "\n",
    "Using the EPA criteria, design a controlled discharge oxidation pond for Waterloo. Waterloo is located in a state where the average winter temperature is 4 C. The design assumptions are as follows:\n",
    "Flow rate: 2,000 m3/d; BOD5: 200 mg/L; Three cells in series; Minimum operating depth: 0.6 m; loading rate\n",
    "of 22 kg/ha·d at 0C to 15C"
   ]
  },
  {
   "cell_type": "code",
   "execution_count": 427,
   "metadata": {},
   "outputs": [],
   "source": [
    "#Input parameters\n",
    "flow_rate = 2000.0 \n",
    "BOD5 = 200.0\n",
    "minimum_operating_depth = 0.6 \n",
    "loading_rate_zero_to_15 = 22.0 #(Table 23-10)"
   ]
  },
  {
   "cell_type": "code",
   "execution_count": 428,
   "metadata": {},
   "outputs": [
    {
     "name": "stdout",
     "output_type": "stream",
     "text": [
      "The total lagoon surface area at the mean operating depth 18.2 ha.\n"
     ]
    }
   ],
   "source": [
    "# a) Estimating the total lagoon surface area at the mean operating depth\n",
    "surface_area = ((BOD5*flow_rate)/(loading_rate_zero_to_15))*(1/1000)\n",
    "surface_area\n",
    "print ('The total lagoon surface area at the mean operating depth','%.1f' % surface_area, 'ha.')"
   ]
  },
  {
   "cell_type": "code",
   "execution_count": 429,
   "metadata": {},
   "outputs": [
    {
     "name": "stdout",
     "output_type": "stream",
     "text": [
      "The loading rate for the primary cell 66 kg/ha.d\n"
     ]
    }
   ],
   "source": [
    "# b) For three cells of equal size, the loading rate for the primary cell can be estimated as:\n",
    "LR = ((BOD5*flow_rate)/(surface_area/3))*(1/1000)\n",
    "LR\n",
    "print ('The loading rate for the primary cell','%.f' % LR, 'kg/ha.d')"
   ]
  },
  {
   "cell_type": "code",
   "execution_count": 430,
   "metadata": {},
   "outputs": [
    {
     "name": "stdout",
     "output_type": "stream",
     "text": [
      "The retention time for the primary cell is 20 d/cell.\n"
     ]
    }
   ],
   "source": [
    "# c) Assuming a conservative total retention time of 60 d at 0C to 15C from Table 23-11. \n",
    "#    For three cells with the same volume, the retention time in the first cell is\n",
    "number_cells = 3.0\n",
    "total_retention_time = 60.0\n",
    "retention_time_primary_cell = total_retention_time/number_cells\n",
    "retention_time_primary_cell\n",
    "print ('The retention time for the primary cell is','%.f' % retention_time_primary_cell, 'd/cell.')"
   ]
  },
  {
   "cell_type": "code",
   "execution_count": 434,
   "metadata": {},
   "outputs": [
    {
     "name": "stdout",
     "output_type": "stream",
     "text": [
      "The minimum operating depth is 0.66 m.\n",
      "The mean operating depth is 1.26 m.\n"
     ]
    }
   ],
   "source": [
    "# d) The mean operating depth of the three-cell system is the average operating depth \n",
    "#    plus the minimum operating depth.\n",
    "min_depth = ((flow_rate*total_retention_time)/(surface_area))*(1/10000)\n",
    "min_depth\n",
    "print('The minimum operating depth is', '%.2f' % average_depth,'m.')\n",
    "mean_operating_depth = average_depth + minimum_operating_depth\n",
    "print('The mean operating depth is', '%.2f' % mean_operating_depth,'m.')"
   ]
  },
  {
   "cell_type": "code",
   "execution_count": 441,
   "metadata": {},
   "outputs": [
    {
     "name": "stdout",
     "output_type": "stream",
     "text": [
      "The maximun operating depth is 1.92 m.\n"
     ]
    }
   ],
   "source": [
    "# e) The pond system will then operate between the minimum operating depth and twice the average depth. \n",
    "#    Thus, the maximum operating depth is\n",
    "max_depth = (2*average_depth) + minimum_operating_depth\n",
    "print('The maximun operating depth is', '%.2f' % max_depth,'m.')"
   ]
  },
  {
   "cell_type": "code",
   "execution_count": 442,
   "metadata": {},
   "outputs": [
    {
     "name": "stdout",
     "output_type": "stream",
     "text": [
      "The total depth is 2.8 m.\n"
     ]
    }
   ],
   "source": [
    "# f) The total depth of a cell is then\n",
    "freeboard = 0.9 #m\n",
    "total_depth = max_depth + freeboard\n",
    "total_depth\n",
    "print('The total depth is', '%.1f' % total_depth,'m.')"
   ]
  },
  {
   "cell_type": "code",
   "execution_count": 451,
   "metadata": {},
   "outputs": [
    {
     "name": "stdout",
     "output_type": "stream",
     "text": [
      "The dimensions at the mean operating depth is 246 meters on each side.\n"
     ]
    }
   ],
   "source": [
    "# g) Assuming a square pond, the dimensions at the mean operating depth for each of the three ponds are:\n",
    "dimension = ((surface_area/3.)*(10000))**0.5\n",
    "dimension\n",
    "print ('The dimensions at the mean operating depth is', '%.f' % dimension, 'meters on each side.')"
   ]
  },
  {
   "cell_type": "code",
   "execution_count": null,
   "metadata": {},
   "outputs": [],
   "source": []
  },
  {
   "cell_type": "code",
   "execution_count": null,
   "metadata": {},
   "outputs": [],
   "source": []
  },
  {
   "cell_type": "code",
   "execution_count": null,
   "metadata": {},
   "outputs": [],
   "source": []
  }
 ],
 "metadata": {
  "kernelspec": {
   "display_name": "venv",
   "language": "python",
   "name": "venv"
  },
  "language_info": {
   "codemirror_mode": {
    "name": "ipython",
    "version": 3
   },
   "file_extension": ".py",
   "mimetype": "text/x-python",
   "name": "python",
   "nbconvert_exporter": "python",
   "pygments_lexer": "ipython3",
   "version": "3.6.8"
  }
 },
 "nbformat": 4,
 "nbformat_minor": 2
}
