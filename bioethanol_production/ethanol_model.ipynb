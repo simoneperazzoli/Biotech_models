{
 "cells": [
  {
   "cell_type": "markdown",
   "metadata": {},
   "source": [
    "# Modelling Bioethanol Production"
   ]
  },
  {
   "cell_type": "markdown",
   "metadata": {},
   "source": [
    "\n",
    "This notebook shows the implementation of inhibition models for bioethanol production process from cassava. This example is availabe on Book from Schmidell et al (2001), entitled Industrial Biotechnology  (v2, 2001, p. 135, chap 7).\n",
    "\n",
    "Experimental data presented in the book were extracted by using the tool [Webplot Digitalizer](https://automeris.io/WebPlotDigitizer/)"
   ]
  },
  {
   "cell_type": "code",
   "execution_count": 1,
   "metadata": {},
   "outputs": [
    {
     "name": "stderr",
     "output_type": "stream",
     "text": [
      "\n",
      "Bad key \"text.kerning_factor\" on line 4 in\n",
      "/home/mone/.local/lib/python3.6/site-packages/matplotlib/mpl-data/stylelib/_classic_test_patch.mplstyle.\n",
      "You probably need to get an updated matplotlibrc file from\n",
      "http://github.com/matplotlib/matplotlib/blob/master/matplotlibrc.template\n",
      "or from the matplotlib source distribution\n"
     ]
    }
   ],
   "source": [
    "import numpy as np\n",
    "from numpy import log as ln\n",
    "from numpy import arange,array,ones \n",
    "import pandas as pd\n",
    "import matplotlib.pyplot as plt\n",
    "import matplotlib.ticker as plticker\n",
    "import math\n",
    "from math import*\n",
    "from sklearn.linear_model import LinearRegression\n",
    "from scipy import interpolate\n",
    "from scipy import stats\n",
    "%matplotlib inline"
   ]
  },
  {
   "cell_type": "markdown",
   "metadata": {},
   "source": [
    "## Open data from experiment"
   ]
  },
  {
   "cell_type": "code",
   "execution_count": 2,
   "metadata": {},
   "outputs": [],
   "source": [
    "assay_1 = pd.read_csv('assay_1.csv', encoding='utf-8', decimal=',', sep=' ', header=None)\n",
    "assay_2 = pd.read_csv('assay_2.csv', encoding='utf-8', decimal=',', sep=' ', header=None)\n",
    "assay_3 = pd.read_csv('assay_3.csv', encoding='utf-8', decimal=',', sep=' ', header=None)\n",
    "assay_4 = pd.read_csv('assay_4.csv', encoding='utf-8', decimal=',', sep=' ', header=None)"
   ]
  },
  {
   "cell_type": "markdown",
   "metadata": {},
   "source": [
    "## Checking experimental data"
   ]
  },
  {
   "cell_type": "code",
   "execution_count": 3,
   "metadata": {},
   "outputs": [
    {
     "data": {
      "text/html": [
       "<div>\n",
       "<style scoped>\n",
       "    .dataframe tbody tr th:only-of-type {\n",
       "        vertical-align: middle;\n",
       "    }\n",
       "\n",
       "    .dataframe tbody tr th {\n",
       "        vertical-align: top;\n",
       "    }\n",
       "\n",
       "    .dataframe thead th {\n",
       "        text-align: right;\n",
       "    }\n",
       "</style>\n",
       "<table border=\"1\" class=\"dataframe\">\n",
       "  <thead>\n",
       "    <tr style=\"text-align: right;\">\n",
       "      <th></th>\n",
       "      <th>0</th>\n",
       "      <th>1</th>\n",
       "      <th>2</th>\n",
       "      <th>3</th>\n",
       "    </tr>\n",
       "  </thead>\n",
       "  <tbody>\n",
       "    <tr>\n",
       "      <th>0</th>\n",
       "      <td>0.0</td>\n",
       "      <td>0.378</td>\n",
       "      <td>1.92</td>\n",
       "      <td>20.800</td>\n",
       "    </tr>\n",
       "    <tr>\n",
       "      <th>1</th>\n",
       "      <td>1.0</td>\n",
       "      <td>0.652</td>\n",
       "      <td>2.54</td>\n",
       "      <td>17.600</td>\n",
       "    </tr>\n",
       "    <tr>\n",
       "      <th>2</th>\n",
       "      <td>2.0</td>\n",
       "      <td>1.170</td>\n",
       "      <td>3.54</td>\n",
       "      <td>14.800</td>\n",
       "    </tr>\n",
       "    <tr>\n",
       "      <th>3</th>\n",
       "      <td>3.0</td>\n",
       "      <td>1.540</td>\n",
       "      <td>4.65</td>\n",
       "      <td>10.300</td>\n",
       "    </tr>\n",
       "    <tr>\n",
       "      <th>4</th>\n",
       "      <td>4.0</td>\n",
       "      <td>1.840</td>\n",
       "      <td>5.96</td>\n",
       "      <td>5.800</td>\n",
       "    </tr>\n",
       "    <tr>\n",
       "      <th>5</th>\n",
       "      <td>5.0</td>\n",
       "      <td>2.360</td>\n",
       "      <td>6.64</td>\n",
       "      <td>2.340</td>\n",
       "    </tr>\n",
       "    <tr>\n",
       "      <th>6</th>\n",
       "      <td>6.0</td>\n",
       "      <td>2.200</td>\n",
       "      <td>7.19</td>\n",
       "      <td>0.512</td>\n",
       "    </tr>\n",
       "    <tr>\n",
       "      <th>7</th>\n",
       "      <td>7.0</td>\n",
       "      <td>2.230</td>\n",
       "      <td>6.74</td>\n",
       "      <td>0.088</td>\n",
       "    </tr>\n",
       "  </tbody>\n",
       "</table>\n",
       "</div>"
      ],
      "text/plain": [
       "     0      1     2       3\n",
       "0  0.0  0.378  1.92  20.800\n",
       "1  1.0  0.652  2.54  17.600\n",
       "2  2.0  1.170  3.54  14.800\n",
       "3  3.0  1.540  4.65  10.300\n",
       "4  4.0  1.840  5.96   5.800\n",
       "5  5.0  2.360  6.64   2.340\n",
       "6  6.0  2.200  7.19   0.512\n",
       "7  7.0  2.230  6.74   0.088"
      ]
     },
     "execution_count": 3,
     "metadata": {},
     "output_type": "execute_result"
    }
   ],
   "source": [
    "assay_1"
   ]
  },
  {
   "cell_type": "code",
   "execution_count": 4,
   "metadata": {},
   "outputs": [
    {
     "data": {
      "text/html": [
       "<div>\n",
       "<style scoped>\n",
       "    .dataframe tbody tr th:only-of-type {\n",
       "        vertical-align: middle;\n",
       "    }\n",
       "\n",
       "    .dataframe tbody tr th {\n",
       "        vertical-align: top;\n",
       "    }\n",
       "\n",
       "    .dataframe thead th {\n",
       "        text-align: right;\n",
       "    }\n",
       "</style>\n",
       "<table border=\"1\" class=\"dataframe\">\n",
       "  <thead>\n",
       "    <tr style=\"text-align: right;\">\n",
       "      <th></th>\n",
       "      <th>0</th>\n",
       "      <th>1</th>\n",
       "      <th>2</th>\n",
       "      <th>3</th>\n",
       "    </tr>\n",
       "  </thead>\n",
       "  <tbody>\n",
       "    <tr>\n",
       "      <th>0</th>\n",
       "      <td>0.0</td>\n",
       "      <td>0.845</td>\n",
       "      <td>2.44</td>\n",
       "      <td>85.100</td>\n",
       "    </tr>\n",
       "    <tr>\n",
       "      <th>1</th>\n",
       "      <td>1.0</td>\n",
       "      <td>1.080</td>\n",
       "      <td>2.88</td>\n",
       "      <td>76.800</td>\n",
       "    </tr>\n",
       "    <tr>\n",
       "      <th>2</th>\n",
       "      <td>2.0</td>\n",
       "      <td>1.880</td>\n",
       "      <td>3.54</td>\n",
       "      <td>76.300</td>\n",
       "    </tr>\n",
       "    <tr>\n",
       "      <th>3</th>\n",
       "      <td>3.0</td>\n",
       "      <td>2.980</td>\n",
       "      <td>5.34</td>\n",
       "      <td>74.800</td>\n",
       "    </tr>\n",
       "    <tr>\n",
       "      <th>4</th>\n",
       "      <td>4.0</td>\n",
       "      <td>3.920</td>\n",
       "      <td>7.52</td>\n",
       "      <td>56.900</td>\n",
       "    </tr>\n",
       "    <tr>\n",
       "      <th>5</th>\n",
       "      <td>5.0</td>\n",
       "      <td>5.770</td>\n",
       "      <td>10.50</td>\n",
       "      <td>42.200</td>\n",
       "    </tr>\n",
       "    <tr>\n",
       "      <th>6</th>\n",
       "      <td>6.0</td>\n",
       "      <td>7.140</td>\n",
       "      <td>17.60</td>\n",
       "      <td>28.800</td>\n",
       "    </tr>\n",
       "    <tr>\n",
       "      <th>7</th>\n",
       "      <td>7.0</td>\n",
       "      <td>10.600</td>\n",
       "      <td>22.80</td>\n",
       "      <td>7.650</td>\n",
       "    </tr>\n",
       "    <tr>\n",
       "      <th>8</th>\n",
       "      <td>8.0</td>\n",
       "      <td>10.300</td>\n",
       "      <td>24.70</td>\n",
       "      <td>0.198</td>\n",
       "    </tr>\n",
       "    <tr>\n",
       "      <th>9</th>\n",
       "      <td>9.0</td>\n",
       "      <td>7.700</td>\n",
       "      <td>24.40</td>\n",
       "      <td>0.002</td>\n",
       "    </tr>\n",
       "  </tbody>\n",
       "</table>\n",
       "</div>"
      ],
      "text/plain": [
       "     0       1      2       3\n",
       "0  0.0   0.845   2.44  85.100\n",
       "1  1.0   1.080   2.88  76.800\n",
       "2  2.0   1.880   3.54  76.300\n",
       "3  3.0   2.980   5.34  74.800\n",
       "4  4.0   3.920   7.52  56.900\n",
       "5  5.0   5.770  10.50  42.200\n",
       "6  6.0   7.140  17.60  28.800\n",
       "7  7.0  10.600  22.80   7.650\n",
       "8  8.0  10.300  24.70   0.198\n",
       "9  9.0   7.700  24.40   0.002"
      ]
     },
     "execution_count": 4,
     "metadata": {},
     "output_type": "execute_result"
    }
   ],
   "source": [
    "assay_2"
   ]
  },
  {
   "cell_type": "code",
   "execution_count": 5,
   "metadata": {},
   "outputs": [
    {
     "data": {
      "text/html": [
       "<div>\n",
       "<style scoped>\n",
       "    .dataframe tbody tr th:only-of-type {\n",
       "        vertical-align: middle;\n",
       "    }\n",
       "\n",
       "    .dataframe tbody tr th {\n",
       "        vertical-align: top;\n",
       "    }\n",
       "\n",
       "    .dataframe thead th {\n",
       "        text-align: right;\n",
       "    }\n",
       "</style>\n",
       "<table border=\"1\" class=\"dataframe\">\n",
       "  <thead>\n",
       "    <tr style=\"text-align: right;\">\n",
       "      <th></th>\n",
       "      <th>0</th>\n",
       "      <th>1</th>\n",
       "      <th>2</th>\n",
       "      <th>3</th>\n",
       "    </tr>\n",
       "  </thead>\n",
       "  <tbody>\n",
       "    <tr>\n",
       "      <th>0</th>\n",
       "      <td>0.0</td>\n",
       "      <td>0.410</td>\n",
       "      <td>2.71</td>\n",
       "      <td>136.000</td>\n",
       "    </tr>\n",
       "    <tr>\n",
       "      <th>1</th>\n",
       "      <td>1.0</td>\n",
       "      <td>0.819</td>\n",
       "      <td>2.78</td>\n",
       "      <td>130.000</td>\n",
       "    </tr>\n",
       "    <tr>\n",
       "      <th>2</th>\n",
       "      <td>2.0</td>\n",
       "      <td>1.140</td>\n",
       "      <td>3.06</td>\n",
       "      <td>131.000</td>\n",
       "    </tr>\n",
       "    <tr>\n",
       "      <th>3</th>\n",
       "      <td>3.0</td>\n",
       "      <td>1.720</td>\n",
       "      <td>3.43</td>\n",
       "      <td>134.000</td>\n",
       "    </tr>\n",
       "    <tr>\n",
       "      <th>4</th>\n",
       "      <td>4.0</td>\n",
       "      <td>2.570</td>\n",
       "      <td>4.78</td>\n",
       "      <td>130.000</td>\n",
       "    </tr>\n",
       "    <tr>\n",
       "      <th>5</th>\n",
       "      <td>5.0</td>\n",
       "      <td>4.010</td>\n",
       "      <td>6.78</td>\n",
       "      <td>120.000</td>\n",
       "    </tr>\n",
       "    <tr>\n",
       "      <th>6</th>\n",
       "      <td>6.0</td>\n",
       "      <td>4.680</td>\n",
       "      <td>8.34</td>\n",
       "      <td>106.000</td>\n",
       "    </tr>\n",
       "    <tr>\n",
       "      <th>7</th>\n",
       "      <td>7.0</td>\n",
       "      <td>6.600</td>\n",
       "      <td>11.70</td>\n",
       "      <td>100.000</td>\n",
       "    </tr>\n",
       "    <tr>\n",
       "      <th>8</th>\n",
       "      <td>8.0</td>\n",
       "      <td>9.510</td>\n",
       "      <td>15.40</td>\n",
       "      <td>69.800</td>\n",
       "    </tr>\n",
       "    <tr>\n",
       "      <th>9</th>\n",
       "      <td>9.0</td>\n",
       "      <td>12.600</td>\n",
       "      <td>23.00</td>\n",
       "      <td>47.500</td>\n",
       "    </tr>\n",
       "    <tr>\n",
       "      <th>10</th>\n",
       "      <td>10.0</td>\n",
       "      <td>12.300</td>\n",
       "      <td>28.10</td>\n",
       "      <td>18.300</td>\n",
       "    </tr>\n",
       "    <tr>\n",
       "      <th>11</th>\n",
       "      <td>11.0</td>\n",
       "      <td>14.200</td>\n",
       "      <td>38.20</td>\n",
       "      <td>0.812</td>\n",
       "    </tr>\n",
       "    <tr>\n",
       "      <th>12</th>\n",
       "      <td>12.0</td>\n",
       "      <td>15.200</td>\n",
       "      <td>37.70</td>\n",
       "      <td>0.003</td>\n",
       "    </tr>\n",
       "  </tbody>\n",
       "</table>\n",
       "</div>"
      ],
      "text/plain": [
       "       0       1      2        3\n",
       "0    0.0   0.410   2.71  136.000\n",
       "1    1.0   0.819   2.78  130.000\n",
       "2    2.0   1.140   3.06  131.000\n",
       "3    3.0   1.720   3.43  134.000\n",
       "4    4.0   2.570   4.78  130.000\n",
       "5    5.0   4.010   6.78  120.000\n",
       "6    6.0   4.680   8.34  106.000\n",
       "7    7.0   6.600  11.70  100.000\n",
       "8    8.0   9.510  15.40   69.800\n",
       "9    9.0  12.600  23.00   47.500\n",
       "10  10.0  12.300  28.10   18.300\n",
       "11  11.0  14.200  38.20    0.812\n",
       "12  12.0  15.200  37.70    0.003"
      ]
     },
     "execution_count": 5,
     "metadata": {},
     "output_type": "execute_result"
    }
   ],
   "source": [
    "assay_3"
   ]
  },
  {
   "cell_type": "code",
   "execution_count": 6,
   "metadata": {},
   "outputs": [
    {
     "data": {
      "text/html": [
       "<div>\n",
       "<style scoped>\n",
       "    .dataframe tbody tr th:only-of-type {\n",
       "        vertical-align: middle;\n",
       "    }\n",
       "\n",
       "    .dataframe tbody tr th {\n",
       "        vertical-align: top;\n",
       "    }\n",
       "\n",
       "    .dataframe thead th {\n",
       "        text-align: right;\n",
       "    }\n",
       "</style>\n",
       "<table border=\"1\" class=\"dataframe\">\n",
       "  <thead>\n",
       "    <tr style=\"text-align: right;\">\n",
       "      <th></th>\n",
       "      <th>0</th>\n",
       "      <th>1</th>\n",
       "      <th>2</th>\n",
       "      <th>3</th>\n",
       "    </tr>\n",
       "  </thead>\n",
       "  <tbody>\n",
       "    <tr>\n",
       "      <th>0</th>\n",
       "      <td>0.0</td>\n",
       "      <td>1.12</td>\n",
       "      <td>2.02</td>\n",
       "      <td>227.000</td>\n",
       "    </tr>\n",
       "    <tr>\n",
       "      <th>1</th>\n",
       "      <td>1.0</td>\n",
       "      <td>1.29</td>\n",
       "      <td>2.56</td>\n",
       "      <td>236.000</td>\n",
       "    </tr>\n",
       "    <tr>\n",
       "      <th>2</th>\n",
       "      <td>2.0</td>\n",
       "      <td>2.29</td>\n",
       "      <td>2.90</td>\n",
       "      <td>221.000</td>\n",
       "    </tr>\n",
       "    <tr>\n",
       "      <th>3</th>\n",
       "      <td>3.0</td>\n",
       "      <td>2.68</td>\n",
       "      <td>3.82</td>\n",
       "      <td>213.000</td>\n",
       "    </tr>\n",
       "    <tr>\n",
       "      <th>4</th>\n",
       "      <td>4.0</td>\n",
       "      <td>4.36</td>\n",
       "      <td>4.44</td>\n",
       "      <td>198.000</td>\n",
       "    </tr>\n",
       "    <tr>\n",
       "      <th>5</th>\n",
       "      <td>5.0</td>\n",
       "      <td>6.18</td>\n",
       "      <td>6.69</td>\n",
       "      <td>198.000</td>\n",
       "    </tr>\n",
       "    <tr>\n",
       "      <th>6</th>\n",
       "      <td>6.0</td>\n",
       "      <td>7.70</td>\n",
       "      <td>9.31</td>\n",
       "      <td>195.000</td>\n",
       "    </tr>\n",
       "    <tr>\n",
       "      <th>7</th>\n",
       "      <td>7.0</td>\n",
       "      <td>11.10</td>\n",
       "      <td>11.30</td>\n",
       "      <td>178.000</td>\n",
       "    </tr>\n",
       "    <tr>\n",
       "      <th>8</th>\n",
       "      <td>8.0</td>\n",
       "      <td>13.60</td>\n",
       "      <td>15.20</td>\n",
       "      <td>160.000</td>\n",
       "    </tr>\n",
       "    <tr>\n",
       "      <th>9</th>\n",
       "      <td>9.0</td>\n",
       "      <td>18.30</td>\n",
       "      <td>21.00</td>\n",
       "      <td>123.000</td>\n",
       "    </tr>\n",
       "    <tr>\n",
       "      <th>10</th>\n",
       "      <td>10.0</td>\n",
       "      <td>18.60</td>\n",
       "      <td>31.20</td>\n",
       "      <td>76.400</td>\n",
       "    </tr>\n",
       "    <tr>\n",
       "      <th>11</th>\n",
       "      <td>11.0</td>\n",
       "      <td>22.30</td>\n",
       "      <td>39.40</td>\n",
       "      <td>46.200</td>\n",
       "    </tr>\n",
       "    <tr>\n",
       "      <th>12</th>\n",
       "      <td>12.0</td>\n",
       "      <td>29.90</td>\n",
       "      <td>53.80</td>\n",
       "      <td>11.900</td>\n",
       "    </tr>\n",
       "    <tr>\n",
       "      <th>13</th>\n",
       "      <td>13.0</td>\n",
       "      <td>25.20</td>\n",
       "      <td>54.40</td>\n",
       "      <td>0.054</td>\n",
       "    </tr>\n",
       "  </tbody>\n",
       "</table>\n",
       "</div>"
      ],
      "text/plain": [
       "       0      1      2        3\n",
       "0    0.0   1.12   2.02  227.000\n",
       "1    1.0   1.29   2.56  236.000\n",
       "2    2.0   2.29   2.90  221.000\n",
       "3    3.0   2.68   3.82  213.000\n",
       "4    4.0   4.36   4.44  198.000\n",
       "5    5.0   6.18   6.69  198.000\n",
       "6    6.0   7.70   9.31  195.000\n",
       "7    7.0  11.10  11.30  178.000\n",
       "8    8.0  13.60  15.20  160.000\n",
       "9    9.0  18.30  21.00  123.000\n",
       "10  10.0  18.60  31.20   76.400\n",
       "11  11.0  22.30  39.40   46.200\n",
       "12  12.0  29.90  53.80   11.900\n",
       "13  13.0  25.20  54.40    0.054"
      ]
     },
     "execution_count": 6,
     "metadata": {},
     "output_type": "execute_result"
    }
   ],
   "source": [
    "assay_4"
   ]
  },
  {
   "cell_type": "markdown",
   "metadata": {},
   "source": [
    "## Transforming data in arrays"
   ]
  },
  {
   "cell_type": "code",
   "execution_count": 7,
   "metadata": {},
   "outputs": [],
   "source": [
    "time_assay_1 = assay_1 [0]\n",
    "biomass_assay_1 = assay_1[1]\n",
    "product_assay_1 = assay_1[2]\n",
    "substrate_assay_1 = assay_1[3]"
   ]
  },
  {
   "cell_type": "code",
   "execution_count": 8,
   "metadata": {},
   "outputs": [],
   "source": [
    "time_assay_2 = assay_2 [0]\n",
    "biomass_assay_2 = assay_2[1]\n",
    "product_assay_2 = assay_2[2]\n",
    "substrate_assay_2 = assay_2[3]"
   ]
  },
  {
   "cell_type": "code",
   "execution_count": 9,
   "metadata": {},
   "outputs": [],
   "source": [
    "time_assay_3 = assay_3 [0]\n",
    "biomass_assay_3 = assay_3[1]\n",
    "product_assay_3 = assay_3[2]\n",
    "substrate_assay_3 = assay_3[3]"
   ]
  },
  {
   "cell_type": "code",
   "execution_count": 10,
   "metadata": {},
   "outputs": [],
   "source": [
    "time_assay_4 = assay_4 [0]\n",
    "biomass_assay_4 = assay_4[1]\n",
    "product_assay_4 = assay_4[2]\n",
    "substrate_assay_4 = assay_4[3]"
   ]
  },
  {
   "cell_type": "markdown",
   "metadata": {},
   "source": [
    "# Estimating specific growth rates (umax)"
   ]
  },
  {
   "cell_type": "code",
   "execution_count": 11,
   "metadata": {
    "scrolled": true
   },
   "outputs": [
    {
     "name": "stdout",
     "output_type": "stream",
     "text": [
      "umax1 t=2h\n",
      "0.564932416086107\n",
      "umax1 t=3h\n",
      "0.47986449652294094\n",
      "umax1 t=4h\n",
      "0.4024746443447911\n",
      "umax1 t=5h\n",
      "0.35842345844700985\n"
     ]
    }
   ],
   "source": [
    "#assay 1: umax for times 2, 3 4 and 5 h of exponencial growth (Table 7.3, pg 140 )\n",
    "ln_biomass_assay_1 = np.log(biomass_assay_1)\n",
    "coef_a1_2h,coef_b1_2h = np.polyfit(time_assay_1[0:3], ln_biomass_assay_1[0:3], 1)\n",
    "coef_a1_3h,coef_b1_3h = np.polyfit(time_assay_1[0:4], ln_biomass_assay_1[0:4], 1)\n",
    "coef_a1_4h,coef_b1_4h = np.polyfit(time_assay_1[0:5], ln_biomass_assay_1[0:5], 1)\n",
    "coef_a1_5h,coef_b1_5h = np.polyfit(time_assay_1[0:6], ln_biomass_assay_1[0:6], 1)\n",
    "print(\"umax1 t=2h\")\n",
    "print (coef_a1_2h)\n",
    "#print (coef_b1_2h)\n",
    "print(\"umax1 t=3h\")\n",
    "print (coef_a1_3h)\n",
    "#print (coef_b1_3h)\n",
    "print(\"umax1 t=4h\")\n",
    "print (coef_a1_4h)\n",
    "#print (coef_b1_4h)\n",
    "print(\"umax1 t=5h\")\n",
    "print (coef_a1_5h)\n",
    "#print (coef_b1_5h)"
   ]
  },
  {
   "cell_type": "code",
   "execution_count": 12,
   "metadata": {},
   "outputs": [
    {
     "name": "stdout",
     "output_type": "stream",
     "text": [
      "umax_2 t=2h\n",
      "0.3998452142334105\n",
      "umax_3 t=2h\n",
      "0.5113131908450937\n",
      "umax_4 t=2h\n",
      "0.3576115661295725\n"
     ]
    }
   ],
   "source": [
    "#assay 2: umax for times 2h of exponencial growth \n",
    "ln_biomass_assay_2 = np.log(biomass_assay_2)\n",
    "coef_a2_2h,coef_b2_2h = np.polyfit(time_assay_2[0:3], ln_biomass_assay_2[0:3], 1)\n",
    "print(\"umax_2 t=2h\")\n",
    "print (coef_a2_2h)\n",
    "#print (coef_b2_2h)\n",
    "\n",
    "#assay 3: umax for times 2h of exponencial growth \n",
    "ln_biomass_assay_3 = np.log(biomass_assay_3)\n",
    "coef_a3_2h,coef_b3_2h = np.polyfit(time_assay_3[0:3], ln_biomass_assay_3[0:3], 1)\n",
    "print(\"umax_3 t=2h\")\n",
    "print (coef_a3_2h)\n",
    "#print (coef_b3_2h)\n",
    "\n",
    "#assay 4: umax for times 2h of exponencial growth \n",
    "ln_biomass_assay_4 = np.log(biomass_assay_4)\n",
    "coef_a4_2h,coef_b4_2h = np.polyfit(time_assay_4[0:3], ln_biomass_assay_4[0:3], 1)\n",
    "print(\"umax_4 t=2h\")\n",
    "print (coef_a4_2h)\n",
    "#print (coef_b4_2h)"
   ]
  },
  {
   "cell_type": "code",
   "execution_count": 13,
   "metadata": {},
   "outputs": [
    {
     "name": "stdout",
     "output_type": "stream",
     "text": [
      "uP_1 t=2h\n",
      "0.3998452142334105\n",
      "uP_2 t=2h\n",
      "0.18606434392028637\n",
      "uP_3 t=2h\n",
      "0.06073314053633977\n",
      "uP_4 t=2h\n",
      "0.1808066127896575\n"
     ]
    }
   ],
   "source": [
    "#Estimation of uP for time 2h  during bacterial exponencial growth \n",
    "\n",
    "#assay 1:\n",
    "ln_product_assay_1 = np.log(product_assay_1)\n",
    "coef_a1p_2h,coef_b1p_2h = np.polyfit(time_assay_1[0:3], ln_product_assay_1[0:3], 1)\n",
    "print(\"uP_1 t=2h\")\n",
    "print (coef_a2_2h)\n",
    "#print (coef_b2p_2h)\n",
    "\n",
    "#assay 2:\n",
    "ln_product_assay_2 = np.log(product_assay_2)\n",
    "coef_a2p_2h,coef_b2p_2h = np.polyfit(time_assay_2[0:3], ln_product_assay_2[0:3], 1)\n",
    "print(\"uP_2 t=2h\")\n",
    "print (coef_a2p_2h)\n",
    "#print (coef_b2p_2h)\n",
    "\n",
    "#assay 3:\n",
    "ln_product_assay_3 = np.log(product_assay_3)\n",
    "coef_a3p_2h,coef_b3p_2h = np.polyfit(time_assay_3[0:3], ln_product_assay_3[0:3], 1)\n",
    "print(\"uP_3 t=2h\")\n",
    "print (coef_a3p_2h)\n",
    "#print (coef_b3p_2h)\n",
    "\n",
    "\n",
    "#assay 4:\n",
    "ln_product_assay_4 = np.log(product_assay_4)\n",
    "coef_a4p_2h,coef_b4p_2h = np.polyfit(time_assay_4[0:3], ln_product_assay_4[0:3], 1)\n",
    "print(\"uP_4 t=2h\")\n",
    "print (coef_a4p_2h)\n",
    "#print (coef_b4p_2h)"
   ]
  },
  {
   "cell_type": "code",
   "execution_count": 14,
   "metadata": {},
   "outputs": [],
   "source": [
    "#Initial Parameters to run model, considering umax for each timestep interval\n",
    "\n",
    "#assay_1\n",
    "ln_biomass_assay_1 = np.log(biomass_assay_1)\n",
    "coef_a1_2hr,coef_b1_2h = np.polyfit(time_assay_1[0:3], ln_biomass_assay_1[0:3], 1)\n",
    "coef_a1_3hr,coef_b1_3h = np.polyfit(time_assay_1[2:4], ln_biomass_assay_1[2:4], 1)\n",
    "coef_a1_4hr,coef_b1_4h = np.polyfit(time_assay_1[3:5], ln_biomass_assay_1[3:5], 1)\n",
    "coef_a1_5hr,coef_b1_5h = np.polyfit(time_assay_1[4:6], ln_biomass_assay_1[4:6], 1)\n",
    "uxMax_assay_1 = [coef_a1_2hr, coef_a1_3hr, coef_a1_4hr, coef_a1_5hr]\n",
    "initialCbio = 0.378 #g/L\n",
    "dt = 1.0 #h"
   ]
  },
  {
   "cell_type": "markdown",
   "metadata": {},
   "source": [
    "# Creating a function in order to check experimental values vs. those obtained by umax recovery"
   ]
  },
  {
   "cell_type": "code",
   "execution_count": 15,
   "metadata": {},
   "outputs": [],
   "source": [
    "def computeParameters(cBio, timestep):   \n",
    "  \n",
    "    #log phase growth equation\n",
    "    if timestep < 2.0:\n",
    "        cBio = cBio * math.exp(uxMax_assay_1[0] * dt)\n",
    "        return [cBio]\n",
    "    if (timestep >= 2.0 and timestep < 3.0):\n",
    "        cBio = cBio * math.exp(uxMax_assay_1[1] * dt)\n",
    "        return [cBio]\n",
    "    if timestep >= 3.0 and timestep < 4.0:\n",
    "        cBio = cBio * math.exp(uxMax_assay_1[2] * dt)\n",
    "        return [cBio]\n",
    "    if timestep >= 4.0:\n",
    "        cBio = cBio * math.exp(uxMax_assay_1[3] * dt)\n",
    "        return [cBio]"
   ]
  },
  {
   "cell_type": "code",
   "execution_count": 16,
   "metadata": {},
   "outputs": [],
   "source": [
    "#if __name__ == \"__main__\":\n",
    "    timesteps = np.arange(0, 6.0, dt) # hrs\n",
    "    biomassConcentration = np.array([initialCbio])\n",
    "\n",
    "# loop collideAndStream\n",
    "    count = 0\n",
    "    for timestep in timesteps:\n",
    "        [cBio] = computeParameters(biomassConcentration[-1], timestep)\n",
    "\n",
    "        biomassConcentration = np.append(biomassConcentration, cBio) \n",
    "        count += 1\n",
    "\n",
    "    biomassConcentration = np.delete(biomassConcentration, 0)"
   ]
  },
  {
   "cell_type": "code",
   "execution_count": 17,
   "metadata": {},
   "outputs": [
    {
     "data": {
      "text/plain": [
       "array([0.66502632, 1.17      , 1.54      , 1.84      , 2.36      ,\n",
       "       3.02695652])"
      ]
     },
     "execution_count": 17,
     "metadata": {},
     "output_type": "execute_result"
    }
   ],
   "source": [
    "biomassConcentration  "
   ]
  },
  {
   "cell_type": "code",
   "execution_count": 18,
   "metadata": {},
   "outputs": [
    {
     "data": {
      "text/plain": [
       "0    0.378\n",
       "1    0.652\n",
       "2    1.170\n",
       "3    1.540\n",
       "4    1.840\n",
       "5    2.360\n",
       "6    2.200\n",
       "7    2.230\n",
       "Name: 1, dtype: float64"
      ]
     },
     "execution_count": 18,
     "metadata": {},
     "output_type": "execute_result"
    }
   ],
   "source": [
    "biomass_assay_1"
   ]
  },
  {
   "cell_type": "markdown",
   "metadata": {},
   "source": [
    "# Ploting data: Experimental vs. Estimated\n"
   ]
  },
  {
   "cell_type": "code",
   "execution_count": 19,
   "metadata": {},
   "outputs": [
    {
     "data": {
      "text/plain": [
       "(0, 3)"
      ]
     },
     "execution_count": 19,
     "metadata": {},
     "output_type": "execute_result"
    },
    {
     "data": {
      "image/png": "[encoded data removed]",
      "text/plain": [
       "<Figure size 432x288 with 2 Axes>"
      ]
     },
     "metadata": {
      "needs_background": "light"
     },
     "output_type": "display_data"
    }
   ],
   "source": [
    "# This figure can be compared with fig. 7.3 from book (pg. 141)\n",
    "fig, ax1 = plt.subplots()\n",
    "ax2 = ax1.twinx()\n",
    "ax1.plot(timesteps, biomassConcentration, 'g-')\n",
    "ax2.plot(time_assay_1[0:7], biomass_assay_1[0:7], 'bo')\n",
    "ax1.set_xlabel('time (h)')\n",
    "ax1.set_ylabel('biomass (g/L) - Model data', color='g')\n",
    "ax2.set_ylabel('biomass (g/L) - Experimental data', color='b')\n",
    "ax2.set_ylim (0, 3)"
   ]
  },
  {
   "cell_type": "markdown",
   "metadata": {},
   "source": [
    "# Recovering uX, uP and uS from experimental data : Geometric Method"
   ]
  },
  {
   "cell_type": "code",
   "execution_count": 20,
   "metadata": {},
   "outputs": [
    {
     "name": "stdout",
     "output_type": "stream",
     "text": [
      "uX_assay_1\n",
      "1    0.420245\n",
      "2    0.442735\n",
      "3    0.240260\n",
      "4    0.163043\n",
      "5    0.220339\n",
      "6   -0.072727\n",
      "7    0.013453\n",
      "Name: 1, dtype: float64\n",
      "uX_assay_2\n",
      "1    0.217593\n",
      "2    0.425532\n",
      "3    0.369128\n",
      "4    0.239796\n",
      "5    0.320624\n",
      "6    0.191877\n",
      "7    0.326415\n",
      "8   -0.029126\n",
      "9   -0.337662\n",
      "Name: 1, dtype: float64\n",
      "uX_assay_3\n",
      "1     0.499389\n",
      "2     0.281579\n",
      "3     0.337209\n",
      "4     0.330739\n",
      "5     0.359102\n",
      "6     0.143162\n",
      "7     0.290909\n",
      "8     0.305994\n",
      "9     0.245238\n",
      "10   -0.024390\n",
      "11    0.133803\n",
      "12    0.065789\n",
      "Name: 1, dtype: float64\n",
      "uX_assay_4\n",
      "1     0.131783\n",
      "2     0.436681\n",
      "3     0.145522\n",
      "4     0.385321\n",
      "5     0.294498\n",
      "6     0.197403\n",
      "7     0.306306\n",
      "8     0.183824\n",
      "9     0.256831\n",
      "10    0.016129\n",
      "11    0.165919\n",
      "12    0.254181\n",
      "13   -0.186508\n",
      "Name: 1, dtype: float64\n"
     ]
    }
   ],
   "source": [
    "#uX\n",
    "\n",
    "uX_assay_1 = np.diff(biomass_assay_1)/biomass_assay_1[1:]\n",
    "print ('uX_assay_1')\n",
    "print (uX_assay_1)\n",
    "\n",
    "uX_assay_2 = np.diff(biomass_assay_2)/biomass_assay_2[1:]\n",
    "print ('uX_assay_2')\n",
    "print (uX_assay_2)\n",
    "\n",
    "uX_assay_3 = np.diff(biomass_assay_3)/biomass_assay_3[1:]\n",
    "print ('uX_assay_3')\n",
    "print (uX_assay_3)\n",
    "\n",
    "uX_assay_4 = np.diff(biomass_assay_4)/biomass_assay_4[1:]\n",
    "print ('uX_assay_4')\n",
    "print (uX_assay_4)"
   ]
  },
  {
   "cell_type": "code",
   "execution_count": 21,
   "metadata": {},
   "outputs": [
    {
     "name": "stdout",
     "output_type": "stream",
     "text": [
      "uP_assay_1\n",
      "1    0.244094\n",
      "2    0.282486\n",
      "3    0.238710\n",
      "4    0.219799\n",
      "5    0.102410\n",
      "6    0.076495\n",
      "7   -0.066766\n",
      "Name: 2, dtype: float64\n",
      "uP_assay_2\n",
      "1    0.152778\n",
      "2    0.186441\n",
      "3    0.337079\n",
      "4    0.289894\n",
      "5    0.283810\n",
      "6    0.403409\n",
      "7    0.228070\n",
      "8    0.076923\n",
      "9   -0.012295\n",
      "Name: 2, dtype: float64\n",
      "uP_assay_3\n",
      "1     0.025180\n",
      "2     0.091503\n",
      "3     0.107872\n",
      "4     0.282427\n",
      "5     0.294985\n",
      "6     0.187050\n",
      "7     0.287179\n",
      "8     0.240260\n",
      "9     0.330435\n",
      "10    0.181495\n",
      "11    0.264398\n",
      "12   -0.013263\n",
      "Name: 2, dtype: float64\n",
      "uP_assay_4\n",
      "1     0.210938\n",
      "2     0.117241\n",
      "3     0.240838\n",
      "4     0.139640\n",
      "5     0.336323\n",
      "6     0.281418\n",
      "7     0.176106\n",
      "8     0.256579\n",
      "9     0.276190\n",
      "10    0.326923\n",
      "11    0.208122\n",
      "12    0.267658\n",
      "13    0.011029\n",
      "Name: 2, dtype: float64\n"
     ]
    }
   ],
   "source": [
    "#uP\n",
    "\n",
    "uP_assay_1 = np.diff(product_assay_1)/product_assay_1[1:]\n",
    "print ('uP_assay_1')\n",
    "print (uP_assay_1)\n",
    "\n",
    "uP_assay_2 = np.diff(product_assay_2)/product_assay_2[1:]\n",
    "print ('uP_assay_2')\n",
    "print (uP_assay_2)\n",
    "\n",
    "uP_assay_3 = np.diff(product_assay_3)/product_assay_3[1:]\n",
    "print ('uP_assay_3')\n",
    "print (uP_assay_3)\n",
    "\n",
    "uP_assay_4 = np.diff(product_assay_4)/product_assay_4[1:]\n",
    "print ('uP_assay_4')\n",
    "print (uP_assay_4)"
   ]
  },
  {
   "cell_type": "code",
   "execution_count": 22,
   "metadata": {},
   "outputs": [
    {
     "name": "stdout",
     "output_type": "stream",
     "text": [
      "uS_assay_1\n",
      "1   -0.181818\n",
      "2   -0.189189\n",
      "3   -0.436893\n",
      "4   -0.775862\n",
      "5   -1.478632\n",
      "6   -3.570312\n",
      "7   -4.818182\n",
      "Name: 3, dtype: float64\n",
      "uS_assay_2\n",
      "1    -0.108073\n",
      "2    -0.006553\n",
      "3    -0.020053\n",
      "4    -0.314587\n",
      "5    -0.348341\n",
      "6    -0.465278\n",
      "7    -2.764706\n",
      "8   -37.636364\n",
      "9   -98.000000\n",
      "Name: 3, dtype: float64\n",
      "uS_assay_3\n",
      "1      -0.046154\n",
      "2       0.007634\n",
      "3       0.022388\n",
      "4      -0.030769\n",
      "5      -0.083333\n",
      "6      -0.132075\n",
      "7      -0.060000\n",
      "8      -0.432665\n",
      "9      -0.469474\n",
      "10     -1.595628\n",
      "11    -21.536946\n",
      "12   -269.666667\n",
      "Name: 3, dtype: float64\n",
      "uS_assay_4\n",
      "1       0.038136\n",
      "2      -0.067873\n",
      "3      -0.037559\n",
      "4      -0.075758\n",
      "5       0.000000\n",
      "6      -0.015385\n",
      "7      -0.095506\n",
      "8      -0.112500\n",
      "9      -0.300813\n",
      "10     -0.609948\n",
      "11     -0.653680\n",
      "12     -2.882353\n",
      "13   -219.370370\n",
      "Name: 3, dtype: float64\n"
     ]
    }
   ],
   "source": [
    "#uS\n",
    "\n",
    "uS_assay_1 = np.diff(substrate_assay_1)/substrate_assay_1[1:]\n",
    "print ('uS_assay_1')\n",
    "print (uS_assay_1)\n",
    "\n",
    "uS_assay_2 = np.diff(substrate_assay_2)/substrate_assay_2[1:]\n",
    "print ('uS_assay_2')\n",
    "print (uS_assay_2)\n",
    "\n",
    "uS_assay_3 = np.diff(substrate_assay_3)/substrate_assay_3[1:]\n",
    "print ('uS_assay_3')\n",
    "print (uS_assay_3)\n",
    "\n",
    "uS_assay_4 = np.diff(substrate_assay_4)/substrate_assay_4[1:]\n",
    "print ('uS_assay_4')\n",
    "print (uS_assay_4)"
   ]
  },
  {
   "cell_type": "code",
   "execution_count": 23,
   "metadata": {},
   "outputs": [
    {
     "name": "stdout",
     "output_type": "stream",
     "text": [
      "[ 0.39984521  0.21759259  0.42553191  0.36912752  0.23979592  0.32062392\n",
      "  0.19187675  0.32641509 -0.02912621 -0.33766234]\n"
     ]
    }
   ],
   "source": [
    "#We must consider that for assay_1, at t=0, uX = uxMax = 0.5649. So we need to append this value in the array\n",
    "uX_1 = np.append(coef_a1_2h, uX_assay_1)\n",
    "uX_2 = np.append(coef_a2_2h, uX_assay_2)\n",
    "uX_3 = np.append(coef_a3_2h, uX_assay_3)\n",
    "uX_4 = np.append(coef_a4_2h, uX_assay_4)\n",
    "print (uX_2)"
   ]
  },
  {
   "cell_type": "code",
   "execution_count": 24,
   "metadata": {},
   "outputs": [
    {
     "name": "stdout",
     "output_type": "stream",
     "text": [
      "[ 0.30590077  0.24409449  0.28248588  0.23870968  0.21979866  0.10240964\n",
      "  0.07649513 -0.06676558]\n"
     ]
    }
   ],
   "source": [
    "#Up coefficients\n",
    "uP_1 = np.append(coef_a1p_2h, uP_assay_1)\n",
    "uP_2 = np.append(coef_a2p_2h, uP_assay_2)\n",
    "uP_3 = np.append(coef_a3p_2h, uP_assay_3)\n",
    "uP_4 = np.append(coef_a4p_2h, uP_assay_4)\n",
    "print (uP_1)"
   ]
  },
  {
   "cell_type": "code",
   "execution_count": 25,
   "metadata": {},
   "outputs": [
    {
     "data": {
      "image/png": "[encoded data removed]",
      "text/plain": [
       "<Figure size 432x288 with 1 Axes>"
      ]
     },
     "metadata": {
      "needs_background": "light"
     },
     "output_type": "display_data"
    }
   ],
   "source": [
    "# Now we plot values for uX vs.time. \n",
    "#This figure can be compared with fig. 7.4 from book (pg. 141)\n",
    "fig, ax1 = plt.subplots()\n",
    "ax1.plot(time_assay_1, uX_1, 'ro--')\n",
    "ax1.set_xlabel('time (h)')\n",
    "ax1.set_ylabel('uX_1 (1/h)')\n",
    "ax1.set_ylim (-0.1, .65)\n",
    "plt.show()"
   ]
  },
  {
   "cell_type": "markdown",
   "metadata": {
    "collapsed": true
   },
   "source": [
    "Now, lets compute uX and P for  substrate residual values of 10 and 20 mg/L\n",
    "Values presented here show a small difference compared to Table 7.4. It can be explained due to the interpolation method odopted even the accuracy of computational tools applyed.\n",
    "\n",
    "First step is to interpolate experimental data, thus we need to import the library 'interpolate'"
   ]
  },
  {
   "cell_type": "markdown",
   "metadata": {},
   "source": [
    "### Assay_1"
   ]
  },
  {
   "cell_type": "code",
   "execution_count": 26,
   "metadata": {},
   "outputs": [
    {
     "data": {
      "image/png": "[encoded data removed]",
      "text/plain": [
       "<Figure size 432x288 with 1 Axes>"
      ]
     },
     "metadata": {
      "needs_background": "light"
     },
     "output_type": "display_data"
    }
   ],
   "source": [
    "#product_1\n",
    "f_product_assay_1 = interpolate.interp1d(time_assay_1, product_assay_1,kind = 'linear')\n",
    "new_time_assay_1 = np.linspace(0, 7,1000)\n",
    "plt.plot(time_assay_1, product_assay_1, 'o', new_time_assay_1, f_product_assay_1(new_time_assay_1), '--')\n",
    "plt.legend(['product_assay_1', 'linear'], loc = 'best')\n",
    "plt.show()"
   ]
  },
  {
   "cell_type": "code",
   "execution_count": 27,
   "metadata": {},
   "outputs": [
    {
     "name": "stdout",
     "output_type": "stream",
     "text": [
      "[2.0763964]\n",
      "[4.74048048]\n"
     ]
    }
   ],
   "source": [
    "resid20g_product_assay_1 = f_product_assay_1(new_time_assay_1)[36:37]\n",
    "resid10g_product_assay_1 = f_product_assay_1(new_time_assay_1)[438:439]\n",
    "print (resid20g_product_assay_1)\n",
    "print (resid10g_product_assay_1)"
   ]
  },
  {
   "cell_type": "code",
   "execution_count": 28,
   "metadata": {},
   "outputs": [
    {
     "data": {
      "image/png": "[encoded data removed]",
      "text/plain": [
       "<Figure size 432x288 with 1 Axes>"
      ]
     },
     "metadata": {
      "needs_background": "light"
     },
     "output_type": "display_data"
    }
   ],
   "source": [
    "#substrate_1\n",
    "f_substrate_assay_1 = interpolate.interp1d(time_assay_1, substrate_assay_1,kind = 'linear')\n",
    "new_time_assay_1 = np.linspace(0, 7,1000)\n",
    "plt.plot(time_assay_1, substrate_assay_1, 'o', new_time_assay_1, f_substrate_assay_1(new_time_assay_1), '--')\n",
    "plt.legend(['substrate_assay_1', 'linear'], loc = 'best')\n",
    "plt.show()"
   ]
  },
  {
   "cell_type": "code",
   "execution_count": 29,
   "metadata": {},
   "outputs": [
    {
     "name": "stdout",
     "output_type": "stream",
     "text": [
      "[20.01521522]\n",
      "[9.98918919]\n"
     ]
    }
   ],
   "source": [
    "resid20g_substrate_assay_1 = f_substrate_assay_1(new_time_assay_1)[35:36]\n",
    "resid10g_substrate_assay_1 = f_substrate_assay_1(new_time_assay_1)[438:439]\n",
    "print (resid20g_substrate_assay_1)\n",
    "print (resid10g_substrate_assay_1)"
   ]
  },
  {
   "cell_type": "code",
   "execution_count": 30,
   "metadata": {},
   "outputs": [
    {
     "data": {
      "image/png": "[encoded data removed]",
      "text/plain": [
       "<Figure size 432x288 with 1 Axes>"
      ]
     },
     "metadata": {
      "needs_background": "light"
     },
     "output_type": "display_data"
    }
   ],
   "source": [
    "#uX_1\n",
    "f_uX_1 = interpolate.interp1d(time_assay_1, uX_1,kind = 'linear')\n",
    "new_time_assay_1 = np.linspace(0, 7,1000)\n",
    "plt.plot(time_assay_1, uX_1, 'o', new_time_assay_1, f_uX_1(new_time_assay_1), '--')\n",
    "plt.legend(['uX_1', 'linear'], loc = 'best')\n",
    "plt.show()\n"
   ]
  },
  {
   "cell_type": "code",
   "execution_count": 31,
   "metadata": {},
   "outputs": [
    {
     "name": "stdout",
     "output_type": "stream",
     "text": [
      "[0.52944861]\n",
      "[0.23492648]\n"
     ]
    }
   ],
   "source": [
    "resid20g_uX_1 = f_uX_1(new_time_assay_1)[35:36]\n",
    "resid10g_uX_1 = f_uX_1(new_time_assay_1)[438:439]\n",
    "print (resid20g_uX_1)\n",
    "print (resid10g_uX_1)"
   ]
  },
  {
   "cell_type": "code",
   "execution_count": 32,
   "metadata": {},
   "outputs": [
    {
     "data": {
      "image/png": "[encoded data removed]",
      "text/plain": [
       "<Figure size 432x288 with 1 Axes>"
      ]
     },
     "metadata": {
      "needs_background": "light"
     },
     "output_type": "display_data"
    }
   ],
   "source": [
    "#uP_1\n",
    "f_uP_1 = interpolate.interp1d(time_assay_1, uP_1,kind = 'linear')\n",
    "new_time_assay_1 = np.linspace(0, 7,1000)\n",
    "plt.plot(time_assay_1, uX_1, 'o', new_time_assay_1, f_uP_1(new_time_assay_1), '--')\n",
    "plt.legend(['uP_1', 'linear'], loc = 'best')\n",
    "plt.show()"
   ]
  },
  {
   "cell_type": "code",
   "execution_count": 33,
   "metadata": {},
   "outputs": [
    {
     "name": "stdout",
     "output_type": "stream",
     "text": [
      "[0.29074307]\n",
      "[0.23740351]\n"
     ]
    }
   ],
   "source": [
    "resid20g_uP_1 = f_uP_1(new_time_assay_1)[35:36]\n",
    "resid10g_uP_1 = f_uP_1(new_time_assay_1)[438:439]\n",
    "print (resid20g_uP_1)\n",
    "print (resid10g_uP_1)"
   ]
  },
  {
   "cell_type": "markdown",
   "metadata": {
    "collapsed": true
   },
   "source": [
    "### Assay_2"
   ]
  },
  {
   "cell_type": "code",
   "execution_count": 34,
   "metadata": {},
   "outputs": [
    {
     "data": {
      "image/png": "[encoded data removed]",
      "text/plain": [
       "<Figure size 432x288 with 1 Axes>"
      ]
     },
     "metadata": {
      "needs_background": "light"
     },
     "output_type": "display_data"
    }
   ],
   "source": [
    "#product_2\n",
    "f_product_assay_2 = interpolate.interp1d(time_assay_2, product_assay_2,kind = 'linear')\n",
    "new_time_assay_2 = np.linspace(0, 9,99)\n",
    "plt.plot(time_assay_2, product_assay_2, 'o', new_time_assay_2, f_product_assay_2(new_time_assay_2), '--')\n",
    "plt.legend(['product_assay_2', 'linear'], loc = 'best')\n",
    "plt.show()"
   ]
  },
  {
   "cell_type": "code",
   "execution_count": 35,
   "metadata": {},
   "outputs": [
    {
     "name": "stdout",
     "output_type": "stream",
     "text": [
      "[19.82857143]\n",
      "[22.21632653]\n"
     ]
    }
   ],
   "source": [
    "resid20g_product_assay_2 = f_product_assay_2(new_time_assay_2)[70:71]\n",
    "resid10g_product_assay_2 = f_product_assay_2(new_time_assay_2)[75:76]\n",
    "print (resid20g_product_assay_2)\n",
    "print (resid10g_product_assay_2)"
   ]
  },
  {
   "cell_type": "code",
   "execution_count": 36,
   "metadata": {},
   "outputs": [
    {
     "data": {
      "image/png": "[encoded data removed]",
      "text/plain": [
       "<Figure size 432x288 with 1 Axes>"
      ]
     },
     "metadata": {
      "needs_background": "light"
     },
     "output_type": "display_data"
    }
   ],
   "source": [
    "#substrate_2\n",
    "f_substrate_assay_2 = interpolate.interp1d(time_assay_2, substrate_assay_2,kind = 'linear')\n",
    "new_time_assay_2 = np.linspace(0, 9,99)\n",
    "plt.plot(time_assay_2, substrate_assay_2, 'o', new_time_assay_2, f_substrate_assay_2(new_time_assay_2), '--')\n",
    "plt.legend(['substrate_assay_2', 'linear'], loc = 'best')\n",
    "plt.show()"
   ]
  },
  {
   "cell_type": "code",
   "execution_count": 37,
   "metadata": {},
   "outputs": [
    {
     "name": "stdout",
     "output_type": "stream",
     "text": [
      "[19.73571429]\n",
      "[10.02397959]\n"
     ]
    }
   ],
   "source": [
    "resid20g_substrate_assay_2 = f_substrate_assay_2(new_time_assay_2)[70:71]\n",
    "resid10g_substrate_assay_2 = f_substrate_assay_2(new_time_assay_2)[75:76]\n",
    "print (resid20g_substrate_assay_2)\n",
    "print (resid10g_substrate_assay_2)"
   ]
  },
  {
   "cell_type": "code",
   "execution_count": 38,
   "metadata": {},
   "outputs": [
    {
     "data": {
      "image/png": "[encoded data removed]",
      "text/plain": [
       "<Figure size 432x288 with 1 Axes>"
      ]
     },
     "metadata": {
      "needs_background": "light"
     },
     "output_type": "display_data"
    }
   ],
   "source": [
    "# Replacing values by the mean in time 7hrs\n",
    "#uX_2\n",
    "new_uX_2 = np.average(uX_2[6:9])\n",
    "#print (new_uX_2)\n",
    "uX_2_ =  np.where(uX_2==uX_2[7:8],new_uX_2, uX_2)\n",
    "#print (uX_2_)\n",
    "f_uX_2 = interpolate.interp1d(time_assay_2, uX_2_,kind = 'linear')\n",
    "new_time_assay_2 = np.linspace(0, 9,99)\n",
    "plt.plot(time_assay_2, uX_2_, 'o', new_time_assay_2, f_uX_2(new_time_assay_2), '--')\n",
    "plt.legend(['uX_2', 'linear'], loc = 'best')\n",
    "plt.show()"
   ]
  },
  {
   "cell_type": "code",
   "execution_count": 39,
   "metadata": {},
   "outputs": [
    {
     "name": "stdout",
     "output_type": "stream",
     "text": [
      "[0.17952466]\n",
      "[0.16629028]\n"
     ]
    }
   ],
   "source": [
    "resid20g_uX_2 = f_uX_2(new_time_assay_2)[70:71]\n",
    "resid10g_uX_2 = f_uX_2(new_time_assay_2)[75:76]\n",
    "print (resid20g_uX_2)\n",
    "print (resid10g_uX_2)"
   ]
  },
  {
   "cell_type": "markdown",
   "metadata": {
    "collapsed": true
   },
   "source": [
    "### Assay_3"
   ]
  },
  {
   "cell_type": "code",
   "execution_count": 40,
   "metadata": {},
   "outputs": [
    {
     "data": {
      "image/png": "[encoded data removed]",
      "text/plain": [
       "<Figure size 432x288 with 1 Axes>"
      ]
     },
     "metadata": {
      "needs_background": "light"
     },
     "output_type": "display_data"
    }
   ],
   "source": [
    "#product_3\n",
    "f_product_assay_3 = interpolate.interp1d(time_assay_3, product_assay_3,kind = 'linear')\n",
    "new_time_assay_3 = np.linspace(0, 12,560)\n",
    "plt.plot(time_assay_3, product_assay_3, 'o', new_time_assay_3, f_product_assay_3(new_time_assay_3), '--')\n",
    "plt.legend(['product_assay_3', 'linear'], loc = 'best')\n",
    "plt.show()"
   ]
  },
  {
   "cell_type": "code",
   "execution_count": 41,
   "metadata": {},
   "outputs": [
    {
     "name": "stdout",
     "output_type": "stream",
     "text": [
      "[27.78980322]\n",
      "[32.90608229]\n"
     ]
    }
   ],
   "source": [
    "resid20g_product_assay_3 = f_product_assay_3(new_time_assay_3)[463:464]\n",
    "resid10g_product_assay_3 = f_product_assay_3(new_time_assay_3)[488:489]\n",
    "print (resid20g_product_assay_3)\n",
    "print (resid10g_product_assay_3)"
   ]
  },
  {
   "cell_type": "code",
   "execution_count": 42,
   "metadata": {},
   "outputs": [
    {
     "data": {
      "image/png": "[encoded data removed]",
      "text/plain": [
       "<Figure size 432x288 with 1 Axes>"
      ]
     },
     "metadata": {
      "needs_background": "light"
     },
     "output_type": "display_data"
    }
   ],
   "source": [
    "#substrate_3\n",
    "f_substrate_assay_3 = interpolate.interp1d(time_assay_3, substrate_assay_3,kind = 'linear')\n",
    "new_time_assay_3 = np.linspace(0, 12,560)\n",
    "plt.plot(time_assay_3, substrate_assay_3, 'o', new_time_assay_3, f_substrate_assay_3(new_time_assay_3), '--')\n",
    "plt.legend(['substrate_assay_3', 'linear'], loc = 'best')\n",
    "plt.show()"
   ]
  },
  {
   "cell_type": "code",
   "execution_count": 43,
   "metadata": {},
   "outputs": [
    {
     "name": "stdout",
     "output_type": "stream",
     "text": [
      "[20.07602862]\n",
      "[9.97833989]\n"
     ]
    }
   ],
   "source": [
    "resid20g_substrate_assay_3 = f_substrate_assay_3(new_time_assay_3)[463:464]\n",
    "resid10g_substrate_assay_3 = f_substrate_assay_3(new_time_assay_3)[488:489]\n",
    "print (resid20g_substrate_assay_3)\n",
    "print (resid10g_substrate_assay_3)"
   ]
  },
  {
   "cell_type": "code",
   "execution_count": 44,
   "metadata": {},
   "outputs": [
    {
     "data": {
      "image/png": "[encoded data removed]",
      "text/plain": [
       "<Figure size 432x288 with 1 Axes>"
      ]
     },
     "metadata": {
      "needs_background": "light"
     },
     "output_type": "display_data"
    }
   ],
   "source": [
    "# Replacing values by the mean in time 10 and 11hrs\n",
    "\n",
    "a_uX_3 = np.average(uX_3[9:12])\n",
    "uX_3_ =  np.where(uX_3==uX_3[10:11],a_uX_3, uX_3)\n",
    "b_uX_3 = np.average(uX_3[10:13])\n",
    "uX_3_b =  np.where(uX_3_==uX_3_[11:12],b_uX_3, uX_3_)\n",
    "\n",
    "f_uX_3 = interpolate.interp1d(time_assay_3, uX_3_b,kind = 'linear')\n",
    "new_time_assay_3 = np.linspace(0, 12,560)\n",
    "plt.plot(time_assay_3, uX_3_b, 'o', new_time_assay_3, f_uX_3(new_time_assay_3), '--')\n",
    "plt.legend(['uX_3', 'linear'], loc = 'best')\n",
    "plt.show()"
   ]
  },
  {
   "cell_type": "code",
   "execution_count": 45,
   "metadata": {},
   "outputs": [
    {
     "name": "stdout",
     "output_type": "stream",
     "text": [
      "[0.12594269]\n",
      "[0.08975336]\n"
     ]
    }
   ],
   "source": [
    "resid20g_uX_3 = f_uX_3(new_time_assay_3)[463:464]\n",
    "resid10g_uX_3 = f_uX_3(new_time_assay_3)[488:489]\n",
    "print (resid20g_uX_3)\n",
    "print (resid10g_uX_3)"
   ]
  },
  {
   "cell_type": "markdown",
   "metadata": {
    "collapsed": true
   },
   "source": [
    "### Assay_4"
   ]
  },
  {
   "cell_type": "code",
   "execution_count": 46,
   "metadata": {
    "scrolled": true
   },
   "outputs": [
    {
     "data": {
      "image/png": "[encoded data removed]",
      "text/plain": [
       "<Figure size 432x288 with 1 Axes>"
      ]
     },
     "metadata": {
      "needs_background": "light"
     },
     "output_type": "display_data"
    }
   ],
   "source": [
    "#product_4\n",
    "f_product_assay_4 = interpolate.interp1d(time_assay_4, product_assay_4,kind = 'linear')\n",
    "new_time_assay_4 = np.linspace(0, 13,1000)\n",
    "plt.plot(time_assay_4, product_assay_4, 'o', new_time_assay_4, f_product_assay_4(new_time_assay_4), '--')\n",
    "plt.legend(['product_assay_4', 'linear'], loc = 'best')\n",
    "plt.show()"
   ]
  },
  {
   "cell_type": "code",
   "execution_count": 47,
   "metadata": {},
   "outputs": [
    {
     "name": "stdout",
     "output_type": "stream",
     "text": [
      "[50.3981982]\n",
      "[53.89249249]\n"
     ]
    }
   ],
   "source": [
    "f_product_assay_4(new_time_assay_4)\n",
    "resid20g_product_assay_4 = f_product_assay_4(new_time_assay_4)[904:905]\n",
    "resid10g_product_assay_4 = f_product_assay_4(new_time_assay_4)[934:935]\n",
    "print (resid20g_product_assay_4)\n",
    "print (resid10g_product_assay_4)"
   ]
  },
  {
   "cell_type": "code",
   "execution_count": 48,
   "metadata": {},
   "outputs": [
    {
     "data": {
      "image/png": "[encoded data removed]",
      "text/plain": [
       "<Figure size 432x288 with 1 Axes>"
      ]
     },
     "metadata": {
      "needs_background": "light"
     },
     "output_type": "display_data"
    }
   ],
   "source": [
    "#substrate_4\n",
    "f_substrate_assay_4 = interpolate.interp1d(time_assay_4, substrate_assay_4,kind = 'linear')\n",
    "new_time_assay_4 = np.linspace(0, 13,1000)\n",
    "plt.plot(time_assay_4, substrate_assay_4, 'o', new_time_assay_4, f_substrate_assay_4(new_time_assay_4), '--')\n",
    "plt.legend(['substrate_assay_4', 'linear'], loc = 'best')\n",
    "plt.show()"
   ]
  },
  {
   "cell_type": "code",
   "execution_count": 49,
   "metadata": {},
   "outputs": [
    {
     "name": "stdout",
     "output_type": "stream",
     "text": [
      "[20.0029029]\n",
      "[10.07388989]\n"
     ]
    }
   ],
   "source": [
    "f_substrate_assay_4(new_time_assay_4)\n",
    "resid20g_substrate_assay_4 = f_substrate_assay_4(new_time_assay_4)[904:905]\n",
    "resid10g_substrate_assay_4 = f_substrate_assay_4(new_time_assay_4)[934:935]\n",
    "print (resid20g_substrate_assay_4)\n",
    "print (resid10g_substrate_assay_4)"
   ]
  },
  {
   "cell_type": "code",
   "execution_count": 50,
   "metadata": {},
   "outputs": [
    {
     "data": {
      "image/png": "[encoded data removed]",
      "text/plain": [
       "<Figure size 432x288 with 1 Axes>"
      ]
     },
     "metadata": {
      "needs_background": "light"
     },
     "output_type": "display_data"
    }
   ],
   "source": [
    "### Replacing values by the mean in time from 10 to 12 hrs\n",
    "a_uX_4 = np.average(uX_4[10:14])\n",
    "uX_4_ =  np.where(uX_4==uX_4[11:12],a_uX_4, uX_4)\n",
    "b_uX_4 = np.average(uX_4[11:14])\n",
    "uX_4_b =  np.where(uX_4_==uX_4_[12:13],b_uX_4, uX_4_)\n",
    "f_uX_4 = interpolate.interp1d(time_assay_4, uX_4_b,kind = 'linear')\n",
    "new_time_assay_4 = np.linspace(0, 13,1000)\n",
    "plt.plot(time_assay_4, uX_4, 'o', new_time_assay_4, f_uX_4(new_time_assay_4), '--')\n",
    "plt.legend(['uX_4_', 'linear'], loc = 'best')\n",
    "plt.show()"
   ]
  },
  {
   "cell_type": "code",
   "execution_count": 51,
   "metadata": {},
   "outputs": [
    {
     "name": "stdout",
     "output_type": "stream",
     "text": [
      "[0.07421797]\n",
      "[0.03710995]\n"
     ]
    }
   ],
   "source": [
    "resid20g_uX_4 = f_uX_4(new_time_assay_4)[904:905]\n",
    "resid10g_uX_4 = f_uX_4(new_time_assay_4)[934:935]\n",
    "print (resid20g_uX_4)\n",
    "print (resid10g_uX_4)"
   ]
  },
  {
   "cell_type": "markdown",
   "metadata": {},
   "source": [
    "# Inhibition Model"
   ]
  },
  {
   "cell_type": "code",
   "execution_count": 52,
   "metadata": {},
   "outputs": [
    {
     "name": "stdout",
     "output_type": "stream",
     "text": [
      "[ 2.0763964  19.82857143 27.78980322 50.3981982 ]\n",
      "[20.01521522 19.73571429 20.07602862 20.0029029 ]\n",
      "[ 4.74048048 22.21632653 32.90608229 53.89249249]\n"
     ]
    }
   ],
   "source": [
    "#First, we need to concatenate in an unique array the data previously computeted for each condition\n",
    "\n",
    "# 1. Residual of 20 g/L\n",
    "\n",
    "product_20mg = np.concatenate ((resid20g_product_assay_1, resid20g_product_assay_2, resid20g_product_assay_3, resid20g_product_assay_4))\n",
    "print (product_20mg)\n",
    "uX_20mg = np.concatenate((resid20g_uX_1, resid20g_uX_2, resid20g_uX_3, resid20g_uX_4))\n",
    "#print(uX_20mg)\n",
    "\n",
    "substrate_20mg = np.concatenate ((resid20g_substrate_assay_1, resid20g_substrate_assay_2, resid20g_substrate_assay_3, resid20g_substrate_assay_4))\n",
    "print (substrate_20mg)\n",
    "uX_20mg = np.concatenate((resid20g_uX_1, resid20g_uX_2, resid20g_uX_3, resid20g_uX_4))\n",
    "\n",
    "# 2. Residual of 10 g/L\n",
    "\n",
    "product_10mg = np.concatenate ((resid10g_product_assay_1, resid10g_product_assay_2, resid10g_product_assay_3, resid10g_product_assay_4))\n",
    "print (product_10mg)\n",
    "uX_10mg = np.concatenate((resid10g_uX_1, resid10g_uX_2, resid10g_uX_3, resid10g_uX_4))\n",
    "#print(uX_10mg)"
   ]
  },
  {
   "cell_type": "markdown",
   "metadata": {},
   "source": [
    "### Hyperbolic Inhibition"
   ]
  },
  {
   "cell_type": "code",
   "execution_count": 53,
   "metadata": {},
   "outputs": [
    {
     "name": "stdout",
     "output_type": "stream",
     "text": [
      "r value 0.9453722037960169\n",
      "p_value 0.05462779620398306\n",
      "standard deviation 0.11638025721300319\n",
      "slope 0.4772972652352754\n",
      "intercept -1.4723014597783788\n"
     ]
    },
    {
     "data": {
      "image/png": "[encoded data removed]",
      "text/plain": [
       "<Figure size 432x288 with 1 Axes>"
      ]
     },
     "metadata": {
      "needs_background": "light"
     },
     "output_type": "display_data"
    }
   ],
   "source": [
    "##########Hyperbolic Inhibition: Residual of 10 mg/L (book result)\n",
    "a = np.array([0.255, 0.161, 0.0901, 0.0364])\n",
    "x1 = np.array([4.78, 21.2, 33.7, 54.7])\n",
    "y1 = 1/a\n",
    "slope, intercept, r_value, p_value, std_err = stats.linregress(x1, y1)\n",
    "print ('r value', r_value)\n",
    "print  ('p_value', p_value)\n",
    "print ('standard deviation', std_err)\n",
    "print ('slope', slope)\n",
    "print ('intercept', intercept)\n",
    "line = slope*x1+intercept\n",
    "plt.plot(x1,line,'r-',x1,y1,'o')\n",
    "plt.show()"
   ]
  },
  {
   "cell_type": "code",
   "execution_count": 54,
   "metadata": {},
   "outputs": [
    {
     "name": "stdout",
     "output_type": "stream",
     "text": [
      "r value 0.9378679437993163\n",
      "p_value 0.06213205620068373\n",
      "standard deviation 0.12323404867593453\n",
      "slope 0.4710504837164337\n",
      "intercept -1.306425978798723\n"
     ]
    },
    {
     "data": {
      "image/png": "[encoded data removed]",
      "text/plain": [
       "<Figure size 432x288 with 1 Axes>"
      ]
     },
     "metadata": {
      "needs_background": "light"
     },
     "output_type": "display_data"
    }
   ],
   "source": [
    "##########Hyperbolic Inhibition: Residual of 10 mg/L (estimated result)\n",
    "\n",
    "x1 = product_10mg\n",
    "y1 = 1/uX_10mg\n",
    "slope, intercept, r_value, p_value, std_err = stats.linregress(x1, y1)\n",
    "print ('r value', r_value)\n",
    "print  ('p_value', p_value)\n",
    "print ('standard deviation', std_err)\n",
    "print ('slope', slope)\n",
    "print ('intercept', intercept)\n",
    "line = slope*x1+intercept\n",
    "plt.plot(x1,line,'r-',x1,y1,'o')\n",
    "plt.show()"
   ]
  },
  {
   "cell_type": "code",
   "execution_count": 55,
   "metadata": {
    "scrolled": true
   },
   "outputs": [
    {
     "name": "stdout",
     "output_type": "stream",
     "text": [
      "r value 0.9645636259951786\n",
      "p_value 0.035436374004821365\n",
      "standard deviation 0.0685741869414688\n",
      "slope 0.35452662607207336\n",
      "intercept -0.6791212631217824\n"
     ]
    },
    {
     "data": {
      "image/png": "[encoded data removed]",
      "text/plain": [
       "<Figure size 432x288 with 1 Axes>"
      ]
     },
     "metadata": {
      "needs_background": "light"
     },
     "output_type": "display_data"
    }
   ],
   "source": [
    "##########Hyperbolic Inhibition: Residual of 20 mg/L (Book Result)\n",
    "a = np.array([0.565, 0.219, 0.129, 0.053])\n",
    "x2 = np.array([2.12, 18.0, 30.0, 50.5])\n",
    "y2 = 1/a\n",
    "slope, intercept, r_value, p_value, std_err = stats.linregress(x2, y2)\n",
    "print ('r value', r_value)\n",
    "print  ('p_value', p_value)\n",
    "print ('standard deviation', std_err)\n",
    "print ('slope', slope)\n",
    "print ('intercept', intercept)\n",
    "line = slope*x2+intercept\n",
    "plt.plot(x2,line,'r-',x2,y2,'o')\n",
    "plt.show()"
   ]
  },
  {
   "cell_type": "code",
   "execution_count": 56,
   "metadata": {},
   "outputs": [
    {
     "name": "stdout",
     "output_type": "stream",
     "text": [
      "r value 0.9984535258326726\n",
      "p_value 0.0015464741673274491\n",
      "standard deviation 0.009526367969368532\n",
      "slope 0.24196460651754087\n",
      "intercept 1.1635028544437596\n"
     ]
    },
    {
     "data": {
      "image/png": "[encoded data removed]",
      "text/plain": [
       "<Figure size 432x288 with 1 Axes>"
      ]
     },
     "metadata": {
      "needs_background": "light"
     },
     "output_type": "display_data"
    }
   ],
   "source": [
    "##########Hyperbolic Inhibition: Residual of 20 mg/L (Estimated Result)\n",
    "x2 = product_20mg\n",
    "y2 = 1/uX_20mg\n",
    "slope, intercept, r_value, p_value, std_err = stats.linregress(x2, y2)\n",
    "print ('r value', r_value)\n",
    "print  ('p_value', p_value)\n",
    "print ('standard deviation', std_err)\n",
    "print ('slope', slope)\n",
    "print ('intercept', intercept)\n",
    "line = slope*x2+intercept\n",
    "plt.plot(x2,line,'r-',x2,y2,'o')\n",
    "plt.show()"
   ]
  },
  {
   "cell_type": "code",
   "execution_count": 57,
   "metadata": {},
   "outputs": [
    {
     "name": "stdout",
     "output_type": "stream",
     "text": [
      "r value 0.9948581093754738\n",
      "p_value 0.005141890624526191\n",
      "standard deviation 0.002855237402988037\n",
      "slope 0.039664405001220884\n",
      "intercept 1.0940124056222567\n"
     ]
    },
    {
     "data": {
      "image/png": "[encoded data removed]",
      "text/plain": [
       "<Figure size 432x288 with 1 Axes>"
      ]
     },
     "metadata": {
      "needs_background": "light"
     },
     "output_type": "display_data"
    }
   ],
   "source": [
    "##########Exponential Inhibition: Residual of 10 mg/L (book result)\n",
    "a = np.array([0.255, 0.161, 0.0901, 0.0364])\n",
    "x1_b = np.array([4.78, 21.2, 33.7, 54.7])\n",
    "y1_b = np.log(a)*(-1)\n",
    "slope, intercept, r_value, p_value, std_err = stats.linregress(x1_b, y1_b)\n",
    "print ('r value', r_value)\n",
    "print  ('p_value', p_value)\n",
    "print ('standard deviation', std_err)\n",
    "print ('slope', slope)\n",
    "print ('intercept', intercept)\n",
    "line = slope*x1_b+intercept\n",
    "plt.plot(x1_b,line,'r-',x1_b,y1_b,'o')\n",
    "plt.show()"
   ]
  },
  {
   "cell_type": "markdown",
   "metadata": {},
   "source": [
    "### Exponential Inhibition"
   ]
  },
  {
   "cell_type": "code",
   "execution_count": 58,
   "metadata": {},
   "outputs": [
    {
     "name": "stdout",
     "output_type": "stream",
     "text": [
      "r value 0.9839515246680453\n",
      "p_value 0.016048475331954744\n",
      "standard deviation 0.004966763857895453\n",
      "slope 0.03873288043963714\n",
      "intercept 1.1352473058021584\n"
     ]
    },
    {
     "data": {
      "image/png": "[encoded data removed]",
      "text/plain": [
       "<Figure size 432x288 with 1 Axes>"
      ]
     },
     "metadata": {
      "needs_background": "light"
     },
     "output_type": "display_data"
    }
   ],
   "source": [
    "##########Exponential Inhibition: Residual of 10 mg/L (estimated result)\n",
    "\n",
    "x1_b = product_10mg\n",
    "y1_b = np.log(uX_10mg)*(-1)\n",
    "slope, intercept, r_value, p_value, std_err = stats.linregress(x1_b, y1_b)\n",
    "print ('r value', r_value)\n",
    "print  ('p_value', p_value)\n",
    "print ('standard deviation', std_err)\n",
    "print ('slope', slope)\n",
    "print ('intercept', intercept)\n",
    "line = slope*x1_b+intercept\n",
    "plt.plot(x1_b,line,'r-',x1_b,y1_b,'o')\n",
    "plt.show()"
   ]
  },
  {
   "cell_type": "code",
   "execution_count": 59,
   "metadata": {},
   "outputs": [
    {
     "name": "stdout",
     "output_type": "stream",
     "text": [
      "r value 0.9963387475738489\n",
      "p_value 0.0036612524261511177\n",
      "standard deviation 0.002935142610436443\n",
      "slope 0.048374809868842454\n",
      "intercept 0.5518864920122211\n"
     ]
    },
    {
     "data": {
      "image/png": "[encoded data removed]",
      "text/plain": [
       "<Figure size 432x288 with 1 Axes>"
      ]
     },
     "metadata": {
      "needs_background": "light"
     },
     "output_type": "display_data"
    }
   ],
   "source": [
    "##########Exponential Inhibition: Residual of 20 mg/L (Book Result)\n",
    "a = np.array([0.565, 0.219, 0.129, 0.053])\n",
    "x2_c = np.array([2.12, 18.0, 30.0, 50.5])\n",
    "y2_c = np.log(a)*(-1)\n",
    "slope, intercept, r_value, p_value, std_err = stats.linregress(x2_c, y2_c)\n",
    "print ('r value', r_value)\n",
    "print  ('p_value', p_value)\n",
    "print ('standard deviation', std_err)\n",
    "print ('slope', slope)\n",
    "print ('intercept', intercept)\n",
    "line = slope*x2_c+intercept\n",
    "plt.plot(x2_c,line,'r-',x2_c,y2_c,'o')\n",
    "plt.show()"
   ]
  },
  {
   "cell_type": "code",
   "execution_count": 60,
   "metadata": {},
   "outputs": [
    {
     "name": "stdout",
     "output_type": "stream",
     "text": [
      "r value 0.9654215903047387\n",
      "p_value 0.03457840969526128\n",
      "standard deviation 0.007639009089393066\n",
      "slope 0.04000724654086593\n",
      "intercept 0.7553987520715584\n"
     ]
    },
    {
     "data": {
      "image/png": "[encoded data removed]",
      "text/plain": [
       "<Figure size 432x288 with 1 Axes>"
      ]
     },
     "metadata": {
      "needs_background": "light"
     },
     "output_type": "display_data"
    }
   ],
   "source": [
    "##########Exponential Inhibition: Residual of 20 mg/L (Estimated Result)\n",
    "x2_c = product_20mg\n",
    "y2_c = np.log(uX_20mg)*(-1)\n",
    "slope, intercept, r_value, p_value, std_err = stats.linregress(x2_c, y2_c)\n",
    "print ('r value', r_value)\n",
    "print  ('p_value', p_value)\n",
    "print ('standard deviation', std_err)\n",
    "print ('slope', slope)\n",
    "print ('intercept', intercept)\n",
    "line = slope*x2_c+intercept\n",
    "plt.plot(x2_c,line,'r-',x2_c,y2_c,'o')\n",
    "plt.show()"
   ]
  },
  {
   "cell_type": "markdown",
   "metadata": {},
   "source": [
    "### Linear Inhibition"
   ]
  },
  {
   "cell_type": "code",
   "execution_count": 61,
   "metadata": {},
   "outputs": [
    {
     "name": "stdout",
     "output_type": "stream",
     "text": [
      "r value -0.9804036695714139\n",
      "p_value 0.019596330428586103\n",
      "standard deviation 0.0006255958128553354\n",
      "slope -0.004403008472494876\n",
      "intercept 0.261529027270991\n"
     ]
    },
    {
     "data": {
      "image/png": "[encoded data removed]",
      "text/plain": [
       "<Figure size 432x288 with 1 Axes>"
      ]
     },
     "metadata": {
      "needs_background": "light"
     },
     "output_type": "display_data"
    }
   ],
   "source": [
    "##########Linear Inhibition: Residual of 10 mg/L (book result)\n",
    "x1_d = np.array([4.78, 21.2, 33.7, 54.7])\n",
    "y1_d = np.array([0.255, 0.161, 0.0901, 0.0364])\n",
    "slope, intercept, r_value, p_value, std_err = stats.linregress(x1_d, y1_d)\n",
    "print ('r value', r_value)\n",
    "print  ('p_value', p_value)\n",
    "print ('standard deviation', std_err)\n",
    "print ('slope', slope)\n",
    "print ('intercept', intercept)\n",
    "line = slope*x1_d+intercept\n",
    "plt.plot(x1_d,line,'r-',x1_d,y1_d,'o')\n",
    "plt.show()"
   ]
  },
  {
   "cell_type": "code",
   "execution_count": 62,
   "metadata": {},
   "outputs": [
    {
     "name": "stdout",
     "output_type": "stream",
     "text": [
      "r value -0.9827836148039194\n",
      "p_value 0.017216385196080593\n",
      "standard deviation 0.0005510102573902247\n",
      "slope -0.004144994346041807\n",
      "intercept 0.2498988742441608\n"
     ]
    },
    {
     "data": {
      "image/png": "[encoded data removed]",
      "text/plain": [
       "<Figure size 432x288 with 1 Axes>"
      ]
     },
     "metadata": {
      "needs_background": "light"
     },
     "output_type": "display_data"
    }
   ],
   "source": [
    "##########Linear Inhibition: Residual of 10 mg/L (estimated result)\n",
    "x1_d = product_10mg\n",
    "y1_d = uX_10mg\n",
    "slope, intercept, r_value, p_value, std_err = stats.linregress(x1_d, y1_d)\n",
    "print ('r value', r_value)\n",
    "print  ('p_value', p_value)\n",
    "print ('standard deviation', std_err)\n",
    "print ('slope', slope)\n",
    "print ('intercept', intercept)\n",
    "line = slope*x1_d+intercept\n",
    "plt.plot(x1_d,line,'r-',x1_d,y1_d,'o')\n",
    "plt.show()"
   ]
  },
  {
   "cell_type": "code",
   "execution_count": 63,
   "metadata": {},
   "outputs": [
    {
     "name": "stdout",
     "output_type": "stream",
     "text": [
      "r value -0.9119047328377609\n",
      "p_value 0.08809526716223913\n",
      "standard deviation 0.0032172585762086105\n",
      "slope -0.010109764105798086\n",
      "intercept 0.49581111608135087\n"
     ]
    },
    {
     "data": {
      "image/png": "[encoded data removed]",
      "text/plain": [
       "<Figure size 432x288 with 1 Axes>"
      ]
     },
     "metadata": {
      "needs_background": "light"
     },
     "output_type": "display_data"
    }
   ],
   "source": [
    "##########Linear Inhibition: Residual of 20 mg/L (book result)\n",
    "x1_e = np.array([2.12, 18.0, 30.0, 50.5])\n",
    "y1_e = np.array([0.565, 0.219, 0.129, 0.053])\n",
    "slope, intercept, r_value, p_value, std_err = stats.linregress(x1_e, y1_e)\n",
    "print ('r value', r_value)\n",
    "print  ('p_value', p_value)\n",
    "print ('standard deviation', std_err)\n",
    "print ('slope', slope)\n",
    "print ('intercept', intercept)\n",
    "line = slope*x1_e+intercept\n",
    "plt.plot(x1_e,line,'r-',x1_e,y1_e,'o')\n",
    "plt.show()"
   ]
  },
  {
   "cell_type": "code",
   "execution_count": 64,
   "metadata": {},
   "outputs": [
    {
     "name": "stdout",
     "output_type": "stream",
     "text": [
      "r value -0.8760648769078043\n",
      "p_value 0.12393512309219568\n",
      "standard deviation 0.0035041583303393404\n",
      "slope -0.009003551646169668\n",
      "intercept 0.4525815387315892\n"
     ]
    },
    {
     "data": {
      "image/png": "[encoded data removed]",
      "text/plain": [
       "<Figure size 432x288 with 1 Axes>"
      ]
     },
     "metadata": {
      "needs_background": "light"
     },
     "output_type": "display_data"
    }
   ],
   "source": [
    "##########Linear Inhibition: Residual of 20 mg/L (estimated result)\n",
    "x1_e = product_20mg\n",
    "y1_e = uX_20mg\n",
    "slope, intercept, r_value, p_value, std_err = stats.linregress(x1_e, y1_e)\n",
    "print ('r value', r_value)\n",
    "print  ('p_value', p_value)\n",
    "print ('standard deviation', std_err)\n",
    "print ('slope', slope)\n",
    "print ('intercept', intercept)\n",
    "line = slope*x1_e+intercept\n",
    "plt.plot(x1_e,line,'r-',x1_e,y1_e,'o')\n",
    "plt.show()"
   ]
  },
  {
   "cell_type": "markdown",
   "metadata": {},
   "source": [
    "                        ...this notebook is open to contribution to continue its solution!\n",
    " \n",
    "                                                                      PERAZZOLI, Simone"
   ]
  }
 ],
 "metadata": {
  "anaconda-cloud": {},
  "kernelspec": {
   "display_name": "venv",
   "language": "python",
   "name": "venv"
  },
  "language_info": {
   "codemirror_mode": {
    "name": "ipython",
    "version": 3
   },
   "file_extension": ".py",
   "mimetype": "text/x-python",
   "name": "python",
   "nbconvert_exporter": "python",
   "pygments_lexer": "ipython3",
   "version": "3.6.8"
  }
 },
 "nbformat": 4,
 "nbformat_minor": 2
}
